{
 "cells": [
  {
   "cell_type": "markdown",
   "id": "25279644-58ca-44ea-b086-1b2e61a663fd",
   "metadata": {},
   "source": [
    "## **Forecasting Housing Price Trends in New Zealand Using Machine Learning**"
   ]
  },
  {
   "cell_type": "markdown",
   "id": "d200463a-828b-4b3d-9a67-f9e6930caa4f",
   "metadata": {},
   "source": [
    "#### Goal: Analyse historical housing market data to identify key economic drivers and forecast future housing price trends to support urban planning, investment strategies, and policy development in New Zealand."
   ]
  },
  {
   "cell_type": "markdown",
   "id": "7ba5c04f-2f01-4e17-bd10-c991cc1a2cf4",
   "metadata": {},
   "source": [
    "Author: Haru\n",
    "\n",
    "Date: 25 April 2025"
   ]
  },
  {
   "cell_type": "markdown",
   "id": "461bd2d4-7d2c-41d0-b9a0-7f659696796e",
   "metadata": {},
   "source": [
    "#### **Introduction**"
   ]
  },
  {
   "cell_type": "markdown",
   "id": "d8495aea-6ce0-44fd-912e-a43bfd6b20bb",
   "metadata": {},
   "source": [
    "In this project, I analysed historical housing market data in New Zealand to uncover the main factors influencing the Housing Price Index (HPI), including total housing stock value and residential investment (GDP). Regional analysis showed significant differences across cities, with Auckland consistently leading in prices. Using a Random Forest model, I forecasted housing prices for 2025–2030, projecting moderate and stable growth. These insights aim to support strategic decision-making in urban planning and housing investments."
   ]
  },
  {
   "cell_type": "markdown",
   "id": "9830ba0d-8bdb-4949-90e2-2c7b11c4b89c",
   "metadata": {},
   "source": [
    "## **1. Data Collection**"
   ]
  },
  {
   "cell_type": "markdown",
   "id": "99b8710b-87c2-4f77-ad8e-8cff5e0ab364",
   "metadata": {},
   "source": [
    "Data Sources:\n",
    "- Reserve Bank of New Zealand\n",
    "- Stats NZ\n",
    "- Figure NZ"
   ]
  },
  {
   "cell_type": "code",
   "execution_count": 7,
   "id": "b447012d-b59c-444b-a959-0b7dcf3767bb",
   "metadata": {},
   "outputs": [
    {
     "name": "stdout",
     "output_type": "stream",
     "text": [
      "Requirement already satisfied: pandas in c:\\users\\pc\\anaconda3\\lib\\site-packages (2.1.4)\n",
      "Requirement already satisfied: numpy<2,>=1.23.2 in c:\\users\\pc\\anaconda3\\lib\\site-packages (from pandas) (1.26.4)\n",
      "Requirement already satisfied: python-dateutil>=2.8.2 in c:\\users\\pc\\anaconda3\\lib\\site-packages (from pandas) (2.8.2)\n",
      "Requirement already satisfied: pytz>=2020.1 in c:\\users\\pc\\anaconda3\\lib\\site-packages (from pandas) (2023.3.post1)\n",
      "Requirement already satisfied: tzdata>=2022.1 in c:\\users\\pc\\anaconda3\\lib\\site-packages (from pandas) (2023.3)\n",
      "Requirement already satisfied: six>=1.5 in c:\\users\\pc\\anaconda3\\lib\\site-packages (from python-dateutil>=2.8.2->pandas) (1.16.0)\n"
     ]
    }
   ],
   "source": [
    "!pip install pandas\n",
    "import pandas as pd"
   ]
  },
  {
   "cell_type": "markdown",
   "id": "d7abaa46-0500-4f08-b1fb-840b3c0a3423",
   "metadata": {},
   "source": [
    "**1-1. House price index (HPI) data from Stats NZ**"
   ]
  },
  {
   "cell_type": "code",
   "execution_count": 9,
   "id": "7fa9f5b1-5286-4407-b32b-caf3d7f680e0",
   "metadata": {},
   "outputs": [
    {
     "name": "stderr",
     "output_type": "stream",
     "text": [
      "C:\\Users\\pc\\anaconda3\\Lib\\site-packages\\openpyxl\\styles\\stylesheet.py:226: UserWarning: Workbook contains no default style, apply openpyxl's default\n",
      "  warn(\"Workbook contains no default style, apply openpyxl's default\")\n"
     ]
    }
   ],
   "source": [
    "housing_price = pd.read_excel(r\"C:\\Users\\pc\\Downloads\\hm10 (1).xlsx\")"
   ]
  },
  {
   "cell_type": "markdown",
   "id": "e29faa3e-267c-45ee-a1aa-aa7cb40c4e2c",
   "metadata": {},
   "source": [
    "**1-2. Population and migration data from Stats NZ**"
   ]
  },
  {
   "cell_type": "code",
   "execution_count": 11,
   "id": "e928f6c0-b91f-40e5-887c-d19b47dd6865",
   "metadata": {},
   "outputs": [],
   "source": [
    "population_data =pd.read_csv(r\"C:\\Users\\pc\\Downloads\\components-of-new-zealand’s-population-change,-year-ended-december-1992–2024.csv\")"
   ]
  },
  {
   "cell_type": "markdown",
   "id": "cc77dd65-931b-4729-96cd-ea6e5bf4b2fd",
   "metadata": {},
   "source": [
    "**1-3. Household Income Data from Reserve Bank of New Zealand**"
   ]
  },
  {
   "cell_type": "code",
   "execution_count": 13,
   "id": "969690dc-f432-484d-885c-7b6ce8e79fb1",
   "metadata": {},
   "outputs": [],
   "source": [
    "income_df = pd.read_csv(r\"C:\\Users\\pc\\Downloads\\household-final-consumption-expenditure-and-net-disposable-income-($),-september-2017–september-2022-quarters.csv\")"
   ]
  },
  {
   "cell_type": "markdown",
   "id": "c279ab47-a3ec-4296-907a-89460b9bd090",
   "metadata": {},
   "source": [
    "**1-4. Resional data from Figure NZ**"
   ]
  },
  {
   "cell_type": "code",
   "execution_count": 15,
   "id": "fa95cd85-971b-4e58-a7ae-dea6ec2f7936",
   "metadata": {},
   "outputs": [],
   "source": [
    "Resional_df = pd.read_csv(r\"C:\\Users\\pc\\Downloads\\Property_Median_sale_price_for_houses_and_apartments_by_location_Jul_2018Jun_2019.csv\")"
   ]
  },
  {
   "cell_type": "markdown",
   "id": "1066faf6-4d93-4cc4-8e68-09582b41b21d",
   "metadata": {},
   "source": [
    "### **2. Data Cleaning & Preprocessing**"
   ]
  },
  {
   "cell_type": "markdown",
   "id": "7ac54951-f449-4cb7-9827-cf0af126a2a5",
   "metadata": {},
   "source": [
    "#### 2-1. **Clean House Price Index Data:**"
   ]
  },
  {
   "cell_type": "code",
   "execution_count": 300,
   "id": "c8ead79c-bb0c-4694-96df-8041df6bb168",
   "metadata": {},
   "outputs": [
    {
     "data": {
      "text/html": [
       "<div>\n",
       "<style scoped>\n",
       "    .dataframe tbody tr th:only-of-type {\n",
       "        vertical-align: middle;\n",
       "    }\n",
       "\n",
       "    .dataframe tbody tr th {\n",
       "        vertical-align: top;\n",
       "    }\n",
       "\n",
       "    .dataframe thead th {\n",
       "        text-align: right;\n",
       "    }\n",
       "</style>\n",
       "<table border=\"1\" class=\"dataframe\">\n",
       "  <thead>\n",
       "    <tr style=\"text-align: right;\">\n",
       "      <th></th>\n",
       "      <th>Unnamed: 0</th>\n",
       "      <th>House sales</th>\n",
       "      <th>House price index (HPI)</th>\n",
       "      <th>Total value of housing stock</th>\n",
       "      <th>Residential investment (GDP)</th>\n",
       "    </tr>\n",
       "  </thead>\n",
       "  <tbody>\n",
       "    <tr>\n",
       "      <th>0</th>\n",
       "      <td>NaN</td>\n",
       "      <td>(Number)</td>\n",
       "      <td>(Index)</td>\n",
       "      <td>($m)</td>\n",
       "      <td>(Real $m)</td>\n",
       "    </tr>\n",
       "    <tr>\n",
       "      <th>1</th>\n",
       "      <td>Notes</td>\n",
       "      <td>NaN</td>\n",
       "      <td>NaN</td>\n",
       "      <td>Yes</td>\n",
       "      <td>NaN</td>\n",
       "    </tr>\n",
       "    <tr>\n",
       "      <th>2</th>\n",
       "      <td>Unit</td>\n",
       "      <td>no</td>\n",
       "      <td>Index</td>\n",
       "      <td>NZDm</td>\n",
       "      <td>NZDm(r)</td>\n",
       "    </tr>\n",
       "    <tr>\n",
       "      <th>3</th>\n",
       "      <td>Series Id</td>\n",
       "      <td>QVB.Q.MR0H01.na</td>\n",
       "      <td>HPI.Q.H01T0.ia</td>\n",
       "      <td>HHAL.QC1</td>\n",
       "      <td>GDE.Q.EI24.RA</td>\n",
       "    </tr>\n",
       "    <tr>\n",
       "      <th>4</th>\n",
       "      <td>1990-03-31 00:00:00</td>\n",
       "      <td>22855</td>\n",
       "      <td>477</td>\n",
       "      <td>123000</td>\n",
       "      <td>1790</td>\n",
       "    </tr>\n",
       "  </tbody>\n",
       "</table>\n",
       "</div>"
      ],
      "text/plain": [
       "            Unnamed: 0      House sales House price index (HPI)  \\\n",
       "0                  NaN         (Number)                 (Index)   \n",
       "1                Notes              NaN                     NaN   \n",
       "2                 Unit               no                   Index   \n",
       "3            Series Id  QVB.Q.MR0H01.na          HPI.Q.H01T0.ia   \n",
       "4  1990-03-31 00:00:00            22855                     477   \n",
       "\n",
       "  Total value of housing stock Residential investment (GDP)  \n",
       "0                         ($m)                    (Real $m)  \n",
       "1                          Yes                          NaN  \n",
       "2                         NZDm                      NZDm(r)  \n",
       "3                     HHAL.QC1                GDE.Q.EI24.RA  \n",
       "4                       123000                         1790  "
      ]
     },
     "execution_count": 300,
     "metadata": {},
     "output_type": "execute_result"
    }
   ],
   "source": [
    "housing_price.head()"
   ]
  },
  {
   "cell_type": "markdown",
   "id": "8cc3b7e2-5e8e-412b-b0c0-ea0b81fcb2f3",
   "metadata": {},
   "source": [
    "We need to do \n",
    "- Skip 4 metadata rows at the top\n",
    "- Rename the columns for clarity\n",
    "- Convert to an annual data to merge with other data(Convert date column to datetime)\n",
    "- Remove null values and duplicate records \n",
    "\n",
    "(House sales data was excluded as transaction volumes are typically a lagging indicator of price movements and may introduce noise without directly improving predictive accuracy for housing price dynamics.)"
   ]
  },
  {
   "cell_type": "code",
   "execution_count": 27,
   "id": "2954f42e-260e-4cd9-a241-e65e5a6bacdc",
   "metadata": {},
   "outputs": [
    {
     "name": "stdout",
     "output_type": "stream",
     "text": [
      "   Year  Average HPI  Total value of housing stock  \\\n",
      "0  1990       480.50                      125000.0   \n",
      "1  1991       470.75                      124250.0   \n",
      "2  1992       470.50                      127250.0   \n",
      "3  1993       489.25                      135000.0   \n",
      "4  1994       545.50                      156500.0   \n",
      "\n",
      "   Residential investment (GDP)  \n",
      "0                       1922.75  \n",
      "1                       1604.50  \n",
      "2                       1633.00  \n",
      "3                       1877.75  \n",
      "4                       2146.50  \n"
     ]
    },
    {
     "name": "stderr",
     "output_type": "stream",
     "text": [
      "C:\\Users\\pc\\anaconda3\\Lib\\site-packages\\openpyxl\\styles\\stylesheet.py:226: UserWarning: Workbook contains no default style, apply openpyxl's default\n",
      "  warn(\"Workbook contains no default style, apply openpyxl's default\")\n"
     ]
    }
   ],
   "source": [
    "#Skip 4 metadata rows at the top\n",
    "housing_price_clean = pd.read_excel(r\"C:\\Users\\pc\\Downloads\\hm10 (1).xlsx\", skiprows=4)\n",
    "\n",
    "\n",
    "#Rename the columns for clarity\n",
    "housing_price_2 = housing_price_clean.copy()\n",
    "housing_price_2 = housing_price_2.rename(columns={\n",
    "    'Series Id': 'Date',\n",
    "    'HPI.Q.H01T0.ia': 'Average HPI',\n",
    "    'HHAL.QC1': 'Total value of housing stock',\n",
    "    'GDE.Q.EI24.RA': 'Residential investment (GDP)'\n",
    "})\n",
    "housing_price_2 = housing_price_2.rename(columns={\n",
    "    'HPI': 'Average HPI',\n",
    "})\n",
    "\n",
    "#Convert to an annual data to merge with other data(Convert date column to datetime)\n",
    "housing_price_clean['Series Id'] =pd.to_datetime(housing_price_clean['Series Id'], errors ='coerce')\n",
    "\n",
    "housing_price_2['Year'] = housing_price_2[\"Date\"].dt.year\n",
    "yearly_hip = housing_price_2.groupby('Year')['Average HPI'].mean().reset_index()\n",
    "yearly_data = housing_price_2.groupby('Year').agg({\n",
    "    'Average HPI': 'mean',\n",
    "    'Total value of housing stock': 'mean',\n",
    "    'Residential investment (GDP)': 'mean'\n",
    "}).reset_index()\n",
    "\n",
    "print(yearly_data.head())"
   ]
  },
  {
   "cell_type": "code",
   "execution_count": 28,
   "id": "e3b022a0-2f0a-46b7-b3d7-e2f097163065",
   "metadata": {},
   "outputs": [
    {
     "data": {
      "text/plain": [
       "Year                            0\n",
       "Average HPI                     0\n",
       "Total value of housing stock    0\n",
       "Residential investment (GDP)    0\n",
       "dtype: int64"
      ]
     },
     "execution_count": 28,
     "metadata": {},
     "output_type": "execute_result"
    }
   ],
   "source": [
    "#Remove null values and duplicate records\n",
    "yearly_data.isnull().sum()"
   ]
  },
  {
   "cell_type": "code",
   "execution_count": 29,
   "id": "d8ddf5d7-7287-4278-876a-173b17075ac2",
   "metadata": {},
   "outputs": [
    {
     "data": {
      "text/plain": [
       "0"
      ]
     },
     "execution_count": 29,
     "metadata": {},
     "output_type": "execute_result"
    }
   ],
   "source": [
    "yearly_data.duplicated().sum()"
   ]
  },
  {
   "cell_type": "markdown",
   "id": "df0391b4-92bf-430e-8c8e-cbef1b201cb9",
   "metadata": {},
   "source": [
    "#### **2-2. Population and migration data:**"
   ]
  },
  {
   "cell_type": "code",
   "execution_count": 303,
   "id": "6ec850aa-bc0c-4c5f-9cc5-0b27d747bee8",
   "metadata": {},
   "outputs": [
    {
     "data": {
      "text/html": [
       "<div>\n",
       "<style scoped>\n",
       "    .dataframe tbody tr th:only-of-type {\n",
       "        vertical-align: middle;\n",
       "    }\n",
       "\n",
       "    .dataframe tbody tr th {\n",
       "        vertical-align: top;\n",
       "    }\n",
       "\n",
       "    .dataframe thead th {\n",
       "        text-align: right;\n",
       "    }\n",
       "</style>\n",
       "<table border=\"1\" class=\"dataframe\">\n",
       "  <thead>\n",
       "    <tr style=\"text-align: right;\">\n",
       "      <th></th>\n",
       "      <th>Year</th>\n",
       "      <th>Natural increase</th>\n",
       "      <th>Net migration</th>\n",
       "      <th>Total population change</th>\n",
       "    </tr>\n",
       "  </thead>\n",
       "  <tbody>\n",
       "    <tr>\n",
       "      <th>0</th>\n",
       "      <td>1992</td>\n",
       "      <td>31600</td>\n",
       "      <td>4600</td>\n",
       "      <td>36300</td>\n",
       "    </tr>\n",
       "    <tr>\n",
       "      <th>1</th>\n",
       "      <td>1993</td>\n",
       "      <td>31600</td>\n",
       "      <td>14000</td>\n",
       "      <td>45600</td>\n",
       "    </tr>\n",
       "    <tr>\n",
       "      <th>2</th>\n",
       "      <td>1994</td>\n",
       "      <td>30600</td>\n",
       "      <td>19900</td>\n",
       "      <td>50400</td>\n",
       "    </tr>\n",
       "    <tr>\n",
       "      <th>3</th>\n",
       "      <td>1995</td>\n",
       "      <td>30000</td>\n",
       "      <td>28500</td>\n",
       "      <td>58400</td>\n",
       "    </tr>\n",
       "    <tr>\n",
       "      <th>4</th>\n",
       "      <td>1996</td>\n",
       "      <td>29400</td>\n",
       "      <td>24800</td>\n",
       "      <td>55600</td>\n",
       "    </tr>\n",
       "  </tbody>\n",
       "</table>\n",
       "</div>"
      ],
      "text/plain": [
       "   Year  Natural increase  Net migration  Total population change\n",
       "0  1992             31600           4600                    36300\n",
       "1  1993             31600          14000                    45600\n",
       "2  1994             30600          19900                    50400\n",
       "3  1995             30000          28500                    58400\n",
       "4  1996             29400          24800                    55600"
      ]
     },
     "execution_count": 303,
     "metadata": {},
     "output_type": "execute_result"
    }
   ],
   "source": [
    "population_data.head()"
   ]
  },
  {
   "cell_type": "markdown",
   "id": "a039a70f-13bb-43c2-9b46-e8ce72ab1dc7",
   "metadata": {},
   "source": [
    "We need to do\n",
    "- Remove null values and duplicate records"
   ]
  },
  {
   "cell_type": "code",
   "execution_count": 32,
   "id": "19619b0c-2c01-442e-988c-fa2a09d24394",
   "metadata": {},
   "outputs": [
    {
     "data": {
      "text/plain": [
       "Year                       0\n",
       "Natural increase           0\n",
       "Net migration              0\n",
       "Total population change    0\n",
       "dtype: int64"
      ]
     },
     "execution_count": 32,
     "metadata": {},
     "output_type": "execute_result"
    }
   ],
   "source": [
    "population_data.isnull().sum()"
   ]
  },
  {
   "cell_type": "code",
   "execution_count": 33,
   "id": "872b4c25-42a8-401e-be85-9ddaeff1aa62",
   "metadata": {},
   "outputs": [
    {
     "data": {
      "text/plain": [
       "0"
      ]
     },
     "execution_count": 33,
     "metadata": {},
     "output_type": "execute_result"
    }
   ],
   "source": [
    "population_data.duplicated().sum()"
   ]
  },
  {
   "cell_type": "markdown",
   "id": "f66f695c-2f5a-43ff-bf29-b4f10a8e2a38",
   "metadata": {},
   "source": [
    "#### **2-3.Household Income Data**"
   ]
  },
  {
   "cell_type": "code",
   "execution_count": 305,
   "id": "746eb525-03d4-421b-9307-06a3865f396a",
   "metadata": {},
   "outputs": [
    {
     "data": {
      "text/html": [
       "<div>\n",
       "<style scoped>\n",
       "    .dataframe tbody tr th:only-of-type {\n",
       "        vertical-align: middle;\n",
       "    }\n",
       "\n",
       "    .dataframe tbody tr th {\n",
       "        vertical-align: top;\n",
       "    }\n",
       "\n",
       "    .dataframe thead th {\n",
       "        text-align: right;\n",
       "    }\n",
       "</style>\n",
       "<table border=\"1\" class=\"dataframe\">\n",
       "  <thead>\n",
       "    <tr style=\"text-align: right;\">\n",
       "      <th></th>\n",
       "      <th>Quarter</th>\n",
       "      <th>Final consumption expenditure</th>\n",
       "      <th>Net disposable income</th>\n",
       "      <th>Year</th>\n",
       "    </tr>\n",
       "  </thead>\n",
       "  <tbody>\n",
       "    <tr>\n",
       "      <th>0</th>\n",
       "      <td>2017-09-01</td>\n",
       "      <td>40611000000</td>\n",
       "      <td>40184000000</td>\n",
       "      <td>2017</td>\n",
       "    </tr>\n",
       "    <tr>\n",
       "      <th>1</th>\n",
       "      <td>2017-12-01</td>\n",
       "      <td>41351000000</td>\n",
       "      <td>41577000000</td>\n",
       "      <td>2017</td>\n",
       "    </tr>\n",
       "    <tr>\n",
       "      <th>2</th>\n",
       "      <td>2018-03-01</td>\n",
       "      <td>41788000000</td>\n",
       "      <td>41874000000</td>\n",
       "      <td>2018</td>\n",
       "    </tr>\n",
       "    <tr>\n",
       "      <th>3</th>\n",
       "      <td>2018-06-01</td>\n",
       "      <td>42555000000</td>\n",
       "      <td>42710000000</td>\n",
       "      <td>2018</td>\n",
       "    </tr>\n",
       "    <tr>\n",
       "      <th>4</th>\n",
       "      <td>2018-09-01</td>\n",
       "      <td>43295000000</td>\n",
       "      <td>43800000000</td>\n",
       "      <td>2018</td>\n",
       "    </tr>\n",
       "  </tbody>\n",
       "</table>\n",
       "</div>"
      ],
      "text/plain": [
       "     Quarter  Final consumption expenditure  Net disposable income  Year\n",
       "0 2017-09-01                    40611000000            40184000000  2017\n",
       "1 2017-12-01                    41351000000            41577000000  2017\n",
       "2 2018-03-01                    41788000000            41874000000  2018\n",
       "3 2018-06-01                    42555000000            42710000000  2018\n",
       "4 2018-09-01                    43295000000            43800000000  2018"
      ]
     },
     "execution_count": 305,
     "metadata": {},
     "output_type": "execute_result"
    }
   ],
   "source": [
    "income_df.head()"
   ]
  },
  {
   "cell_type": "markdown",
   "id": "6ca2fbb3-4795-45e3-8e7d-de9fb2dc56aa",
   "metadata": {},
   "source": [
    "We need to do\n",
    "- Convert to an annual data to merge with other data(Convert date column to datetime)\n",
    "- Remove null values and duplicate records"
   ]
  },
  {
   "cell_type": "code",
   "execution_count": 36,
   "id": "ef6a528a-606c-45b8-8865-7faefa4a4426",
   "metadata": {},
   "outputs": [
    {
     "data": {
      "text/plain": [
       "Quarter                          0\n",
       "Final consumption expenditure    0\n",
       "Net disposable income            0\n",
       "dtype: int64"
      ]
     },
     "execution_count": 36,
     "metadata": {},
     "output_type": "execute_result"
    }
   ],
   "source": [
    "income_df.isnull().sum()"
   ]
  },
  {
   "cell_type": "code",
   "execution_count": 37,
   "id": "96c19a12-502b-4e87-95d0-752603179c68",
   "metadata": {},
   "outputs": [
    {
     "data": {
      "text/plain": [
       "0"
      ]
     },
     "execution_count": 37,
     "metadata": {},
     "output_type": "execute_result"
    }
   ],
   "source": [
    "income_df.duplicated().sum()"
   ]
  },
  {
   "cell_type": "code",
   "execution_count": 38,
   "id": "f5b1feaa-6d43-4de3-bbff-9bbc957404f8",
   "metadata": {},
   "outputs": [
    {
     "data": {
      "text/html": [
       "<div>\n",
       "<style scoped>\n",
       "    .dataframe tbody tr th:only-of-type {\n",
       "        vertical-align: middle;\n",
       "    }\n",
       "\n",
       "    .dataframe tbody tr th {\n",
       "        vertical-align: top;\n",
       "    }\n",
       "\n",
       "    .dataframe thead th {\n",
       "        text-align: right;\n",
       "    }\n",
       "</style>\n",
       "<table border=\"1\" class=\"dataframe\">\n",
       "  <thead>\n",
       "    <tr style=\"text-align: right;\">\n",
       "      <th></th>\n",
       "      <th>Quarter</th>\n",
       "      <th>Final consumption expenditure</th>\n",
       "      <th>Net disposable income</th>\n",
       "    </tr>\n",
       "  </thead>\n",
       "  <tbody>\n",
       "    <tr>\n",
       "      <th>0</th>\n",
       "      <td>Sep-17</td>\n",
       "      <td>40611000000</td>\n",
       "      <td>40184000000</td>\n",
       "    </tr>\n",
       "    <tr>\n",
       "      <th>1</th>\n",
       "      <td>Dec-17</td>\n",
       "      <td>41351000000</td>\n",
       "      <td>41577000000</td>\n",
       "    </tr>\n",
       "    <tr>\n",
       "      <th>2</th>\n",
       "      <td>Mar-18</td>\n",
       "      <td>41788000000</td>\n",
       "      <td>41874000000</td>\n",
       "    </tr>\n",
       "    <tr>\n",
       "      <th>3</th>\n",
       "      <td>Jun-18</td>\n",
       "      <td>42555000000</td>\n",
       "      <td>42710000000</td>\n",
       "    </tr>\n",
       "    <tr>\n",
       "      <th>4</th>\n",
       "      <td>Sep-18</td>\n",
       "      <td>43295000000</td>\n",
       "      <td>43800000000</td>\n",
       "    </tr>\n",
       "  </tbody>\n",
       "</table>\n",
       "</div>"
      ],
      "text/plain": [
       "  Quarter  Final consumption expenditure  Net disposable income\n",
       "0  Sep-17                    40611000000            40184000000\n",
       "1  Dec-17                    41351000000            41577000000\n",
       "2  Mar-18                    41788000000            41874000000\n",
       "3  Jun-18                    42555000000            42710000000\n",
       "4  Sep-18                    43295000000            43800000000"
      ]
     },
     "execution_count": 38,
     "metadata": {},
     "output_type": "execute_result"
    }
   ],
   "source": [
    "income_df.head()"
   ]
  },
  {
   "cell_type": "markdown",
   "id": "047d0ad3-4544-41cf-a236-ef483c97eec7",
   "metadata": {},
   "source": [
    "Convert date column to datetime."
   ]
  },
  {
   "cell_type": "code",
   "execution_count": 39,
   "id": "c46f31af-10df-491a-98c5-05f1c2d9385a",
   "metadata": {},
   "outputs": [
    {
     "data": {
      "text/html": [
       "<div>\n",
       "<style scoped>\n",
       "    .dataframe tbody tr th:only-of-type {\n",
       "        vertical-align: middle;\n",
       "    }\n",
       "\n",
       "    .dataframe tbody tr th {\n",
       "        vertical-align: top;\n",
       "    }\n",
       "\n",
       "    .dataframe thead th {\n",
       "        text-align: right;\n",
       "    }\n",
       "</style>\n",
       "<table border=\"1\" class=\"dataframe\">\n",
       "  <thead>\n",
       "    <tr style=\"text-align: right;\">\n",
       "      <th></th>\n",
       "      <th>Quarter</th>\n",
       "      <th>Final consumption expenditure</th>\n",
       "      <th>Net disposable income</th>\n",
       "    </tr>\n",
       "  </thead>\n",
       "  <tbody>\n",
       "    <tr>\n",
       "      <th>0</th>\n",
       "      <td>2017-09-01</td>\n",
       "      <td>40611000000</td>\n",
       "      <td>40184000000</td>\n",
       "    </tr>\n",
       "    <tr>\n",
       "      <th>1</th>\n",
       "      <td>2017-12-01</td>\n",
       "      <td>41351000000</td>\n",
       "      <td>41577000000</td>\n",
       "    </tr>\n",
       "    <tr>\n",
       "      <th>2</th>\n",
       "      <td>2018-03-01</td>\n",
       "      <td>41788000000</td>\n",
       "      <td>41874000000</td>\n",
       "    </tr>\n",
       "    <tr>\n",
       "      <th>3</th>\n",
       "      <td>2018-06-01</td>\n",
       "      <td>42555000000</td>\n",
       "      <td>42710000000</td>\n",
       "    </tr>\n",
       "    <tr>\n",
       "      <th>4</th>\n",
       "      <td>2018-09-01</td>\n",
       "      <td>43295000000</td>\n",
       "      <td>43800000000</td>\n",
       "    </tr>\n",
       "  </tbody>\n",
       "</table>\n",
       "</div>"
      ],
      "text/plain": [
       "     Quarter  Final consumption expenditure  Net disposable income\n",
       "0 2017-09-01                    40611000000            40184000000\n",
       "1 2017-12-01                    41351000000            41577000000\n",
       "2 2018-03-01                    41788000000            41874000000\n",
       "3 2018-06-01                    42555000000            42710000000\n",
       "4 2018-09-01                    43295000000            43800000000"
      ]
     },
     "execution_count": 39,
     "metadata": {},
     "output_type": "execute_result"
    }
   ],
   "source": [
    "income_df[\"Quarter\"] = pd.to_datetime(income_df[\"Quarter\"], format='%b-%y',  errors='coerce')\n",
    "income_df.head()"
   ]
  },
  {
   "cell_type": "markdown",
   "id": "f9df3566-ffcb-4293-9fc6-e1dd42ec479d",
   "metadata": {},
   "source": [
    "Make a yearly data"
   ]
  },
  {
   "cell_type": "code",
   "execution_count": 40,
   "id": "d84f0f25-ba21-4300-ad7f-33104767861a",
   "metadata": {},
   "outputs": [
    {
     "name": "stdout",
     "output_type": "stream",
     "text": [
      "   Year  Final consumption expenditure  Net disposable income\n",
      "0  2017                    81962000000            81761000000\n",
      "1  2018                   171571000000           172394000000\n",
      "2  2019                   179784000000           182980000000\n",
      "3  2020                   179076000000           194829000000\n",
      "4  2021                   198466000000           207497000000\n",
      "5  2022                   160571000000           164522000000\n"
     ]
    }
   ],
   "source": [
    "income_df[\"Year\"] = income_df[\"Quarter\"].dt.year\n",
    "annual_income = income_df.groupby(\"Year\")[[\"Final consumption expenditure\", \"Net disposable income\"]].sum().reset_index()\n",
    "print(annual_income)"
   ]
  },
  {
   "cell_type": "markdown",
   "id": "4f9b1fe4-3076-479f-aa75-e1dfc6ecf3a5",
   "metadata": {},
   "source": [
    "#### **2-4.Resional data**"
   ]
  },
  {
   "cell_type": "code",
   "execution_count": 307,
   "id": "06f4fabf-d943-4552-907d-19317435cc2b",
   "metadata": {},
   "outputs": [
    {
     "data": {
      "text/html": [
       "<div>\n",
       "<style scoped>\n",
       "    .dataframe tbody tr th:only-of-type {\n",
       "        vertical-align: middle;\n",
       "    }\n",
       "\n",
       "    .dataframe tbody tr th {\n",
       "        vertical-align: top;\n",
       "    }\n",
       "\n",
       "    .dataframe thead th {\n",
       "        text-align: right;\n",
       "    }\n",
       "</style>\n",
       "<table border=\"1\" class=\"dataframe\">\n",
       "  <thead>\n",
       "    <tr style=\"text-align: right;\">\n",
       "      <th></th>\n",
       "      <th>Month</th>\n",
       "      <th>Property type</th>\n",
       "      <th>Location</th>\n",
       "      <th>Measure</th>\n",
       "      <th>Value</th>\n",
       "      <th>Value Unit</th>\n",
       "      <th>Value Label</th>\n",
       "      <th>Null Reason</th>\n",
       "    </tr>\n",
       "  </thead>\n",
       "  <tbody>\n",
       "    <tr>\n",
       "      <th>0</th>\n",
       "      <td>2018-07</td>\n",
       "      <td>House</td>\n",
       "      <td>Auckland</td>\n",
       "      <td>Median sale price</td>\n",
       "      <td>906500.0</td>\n",
       "      <td>nzd</td>\n",
       "      <td>NZD</td>\n",
       "      <td>NaN</td>\n",
       "    </tr>\n",
       "    <tr>\n",
       "      <th>1</th>\n",
       "      <td>2018-07</td>\n",
       "      <td>House</td>\n",
       "      <td>Christchurch</td>\n",
       "      <td>Median sale price</td>\n",
       "      <td>455000.0</td>\n",
       "      <td>nzd</td>\n",
       "      <td>NZD</td>\n",
       "      <td>NaN</td>\n",
       "    </tr>\n",
       "    <tr>\n",
       "      <th>2</th>\n",
       "      <td>2018-07</td>\n",
       "      <td>House</td>\n",
       "      <td>North Island Metro</td>\n",
       "      <td>Median sale price</td>\n",
       "      <td>530000.0</td>\n",
       "      <td>nzd</td>\n",
       "      <td>NZD</td>\n",
       "      <td>NaN</td>\n",
       "    </tr>\n",
       "    <tr>\n",
       "      <th>3</th>\n",
       "      <td>2018-07</td>\n",
       "      <td>House</td>\n",
       "      <td>Other</td>\n",
       "      <td>Median sale price</td>\n",
       "      <td>420000.0</td>\n",
       "      <td>nzd</td>\n",
       "      <td>NZD</td>\n",
       "      <td>NaN</td>\n",
       "    </tr>\n",
       "    <tr>\n",
       "      <th>4</th>\n",
       "      <td>2018-07</td>\n",
       "      <td>House</td>\n",
       "      <td>South Island Metro</td>\n",
       "      <td>Median sale price</td>\n",
       "      <td>353000.0</td>\n",
       "      <td>nzd</td>\n",
       "      <td>NZD</td>\n",
       "      <td>NaN</td>\n",
       "    </tr>\n",
       "  </tbody>\n",
       "</table>\n",
       "</div>"
      ],
      "text/plain": [
       "     Month Property type            Location            Measure     Value  \\\n",
       "0  2018-07         House            Auckland  Median sale price  906500.0   \n",
       "1  2018-07         House        Christchurch  Median sale price  455000.0   \n",
       "2  2018-07         House  North Island Metro  Median sale price  530000.0   \n",
       "3  2018-07         House               Other  Median sale price  420000.0   \n",
       "4  2018-07         House  South Island Metro  Median sale price  353000.0   \n",
       "\n",
       "  Value Unit Value Label  Null Reason  \n",
       "0        nzd         NZD          NaN  \n",
       "1        nzd         NZD          NaN  \n",
       "2        nzd         NZD          NaN  \n",
       "3        nzd         NZD          NaN  \n",
       "4        nzd         NZD          NaN  "
      ]
     },
     "execution_count": 307,
     "metadata": {},
     "output_type": "execute_result"
    }
   ],
   "source": [
    "Resional_df.head()"
   ]
  },
  {
   "cell_type": "markdown",
   "id": "e3548385-a91c-4b43-8c06-9a221ce3a29c",
   "metadata": {},
   "source": [
    "We nee to do\n",
    "- Delete unnecessary columns\n",
    "- Convert to an annual data to merge with other data\n",
    "- Remove null values and duplicate records"
   ]
  },
  {
   "cell_type": "markdown",
   "id": "aa2a1f47-0ef6-4af2-b912-4169cd324c61",
   "metadata": {},
   "source": [
    "Delete unnecessary columns and  make an annual data"
   ]
  },
  {
   "cell_type": "code",
   "execution_count": 43,
   "id": "d6f19510-8278-4c12-99bd-85a099ab9ea8",
   "metadata": {},
   "outputs": [
    {
     "name": "stderr",
     "output_type": "stream",
     "text": [
      "C:\\Users\\pc\\AppData\\Local\\Temp\\ipykernel_15128\\808315766.py:5: SettingWithCopyWarning: \n",
      "A value is trying to be set on a copy of a slice from a DataFrame.\n",
      "Try using .loc[row_indexer,col_indexer] = value instead\n",
      "\n",
      "See the caveats in the documentation: https://pandas.pydata.org/pandas-docs/stable/user_guide/indexing.html#returning-a-view-versus-a-copy\n",
      "  Resional_selected[\"Year\"]=Resional_selected[\"Month\"].str[:4]\n"
     ]
    },
    {
     "data": {
      "text/html": [
       "<div>\n",
       "<style scoped>\n",
       "    .dataframe tbody tr th:only-of-type {\n",
       "        vertical-align: middle;\n",
       "    }\n",
       "\n",
       "    .dataframe tbody tr th {\n",
       "        vertical-align: top;\n",
       "    }\n",
       "\n",
       "    .dataframe thead th {\n",
       "        text-align: right;\n",
       "    }\n",
       "</style>\n",
       "<table border=\"1\" class=\"dataframe\">\n",
       "  <thead>\n",
       "    <tr style=\"text-align: right;\">\n",
       "      <th></th>\n",
       "      <th>Year</th>\n",
       "      <th>Location</th>\n",
       "      <th>Value</th>\n",
       "    </tr>\n",
       "  </thead>\n",
       "  <tbody>\n",
       "    <tr>\n",
       "      <th>0</th>\n",
       "      <td>2018</td>\n",
       "      <td>Auckland</td>\n",
       "      <td>787081.250000</td>\n",
       "    </tr>\n",
       "    <tr>\n",
       "      <th>1</th>\n",
       "      <td>2018</td>\n",
       "      <td>Christchurch</td>\n",
       "      <td>406946.833333</td>\n",
       "    </tr>\n",
       "    <tr>\n",
       "      <th>2</th>\n",
       "      <td>2018</td>\n",
       "      <td>North Island Metro</td>\n",
       "      <td>492604.166667</td>\n",
       "    </tr>\n",
       "    <tr>\n",
       "      <th>3</th>\n",
       "      <td>2018</td>\n",
       "      <td>Other</td>\n",
       "      <td>381072.916667</td>\n",
       "    </tr>\n",
       "    <tr>\n",
       "      <th>4</th>\n",
       "      <td>2018</td>\n",
       "      <td>South Island Metro</td>\n",
       "      <td>333691.958333</td>\n",
       "    </tr>\n",
       "    <tr>\n",
       "      <th>5</th>\n",
       "      <td>2018</td>\n",
       "      <td>Wellington</td>\n",
       "      <td>575256.916667</td>\n",
       "    </tr>\n",
       "    <tr>\n",
       "      <th>6</th>\n",
       "      <td>2019</td>\n",
       "      <td>Auckland</td>\n",
       "      <td>766889.583333</td>\n",
       "    </tr>\n",
       "    <tr>\n",
       "      <th>7</th>\n",
       "      <td>2019</td>\n",
       "      <td>Christchurch</td>\n",
       "      <td>403387.000000</td>\n",
       "    </tr>\n",
       "    <tr>\n",
       "      <th>8</th>\n",
       "      <td>2019</td>\n",
       "      <td>North Island Metro</td>\n",
       "      <td>494796.666667</td>\n",
       "    </tr>\n",
       "    <tr>\n",
       "      <th>9</th>\n",
       "      <td>2019</td>\n",
       "      <td>Other</td>\n",
       "      <td>384693.750000</td>\n",
       "    </tr>\n",
       "    <tr>\n",
       "      <th>10</th>\n",
       "      <td>2019</td>\n",
       "      <td>South Island Metro</td>\n",
       "      <td>357521.833333</td>\n",
       "    </tr>\n",
       "    <tr>\n",
       "      <th>11</th>\n",
       "      <td>2019</td>\n",
       "      <td>Wellington</td>\n",
       "      <td>588914.541667</td>\n",
       "    </tr>\n",
       "  </tbody>\n",
       "</table>\n",
       "</div>"
      ],
      "text/plain": [
       "    Year            Location          Value\n",
       "0   2018            Auckland  787081.250000\n",
       "1   2018        Christchurch  406946.833333\n",
       "2   2018  North Island Metro  492604.166667\n",
       "3   2018               Other  381072.916667\n",
       "4   2018  South Island Metro  333691.958333\n",
       "5   2018          Wellington  575256.916667\n",
       "6   2019            Auckland  766889.583333\n",
       "7   2019        Christchurch  403387.000000\n",
       "8   2019  North Island Metro  494796.666667\n",
       "9   2019               Other  384693.750000\n",
       "10  2019  South Island Metro  357521.833333\n",
       "11  2019          Wellington  588914.541667"
      ]
     },
     "execution_count": 43,
     "metadata": {},
     "output_type": "execute_result"
    }
   ],
   "source": [
    "#Delete unnecessary columns\n",
    "Resional_selected = Resional_df[[\"Month\", \"Location\", \"Value\"]]\n",
    "\n",
    "#Convert to an annual data to merge with other data\n",
    "Resional_selected[\"Year\"]=Resional_selected[\"Month\"].str[:4]\n",
    "yearly_resion = Resional_selected.groupby(['Year', 'Location']).agg({'Value': 'mean'}).reset_index()\n",
    "\n",
    "yearly_resion                                                                     "
   ]
  },
  {
   "cell_type": "markdown",
   "id": "d28e12b9-79e5-4b6e-8335-3eb9ffdd97b8",
   "metadata": {},
   "source": [
    "Pivot the data to make the table more user-friendly "
   ]
  },
  {
   "cell_type": "code",
   "execution_count": 44,
   "id": "9c7d105e-63cb-400b-8342-824e67b75046",
   "metadata": {},
   "outputs": [
    {
     "data": {
      "text/html": [
       "<div>\n",
       "<style scoped>\n",
       "    .dataframe tbody tr th:only-of-type {\n",
       "        vertical-align: middle;\n",
       "    }\n",
       "\n",
       "    .dataframe tbody tr th {\n",
       "        vertical-align: top;\n",
       "    }\n",
       "\n",
       "    .dataframe thead th {\n",
       "        text-align: right;\n",
       "    }\n",
       "</style>\n",
       "<table border=\"1\" class=\"dataframe\">\n",
       "  <thead>\n",
       "    <tr style=\"text-align: right;\">\n",
       "      <th>Location</th>\n",
       "      <th>Auckland</th>\n",
       "      <th>Christchurch</th>\n",
       "      <th>North Island Metro</th>\n",
       "      <th>Other</th>\n",
       "      <th>South Island Metro</th>\n",
       "      <th>Wellington</th>\n",
       "    </tr>\n",
       "    <tr>\n",
       "      <th>Year</th>\n",
       "      <th></th>\n",
       "      <th></th>\n",
       "      <th></th>\n",
       "      <th></th>\n",
       "      <th></th>\n",
       "      <th></th>\n",
       "    </tr>\n",
       "  </thead>\n",
       "  <tbody>\n",
       "    <tr>\n",
       "      <th>2018</th>\n",
       "      <td>787081.250000</td>\n",
       "      <td>406946.833333</td>\n",
       "      <td>492604.166667</td>\n",
       "      <td>381072.916667</td>\n",
       "      <td>333691.958333</td>\n",
       "      <td>575256.916667</td>\n",
       "    </tr>\n",
       "    <tr>\n",
       "      <th>2019</th>\n",
       "      <td>766889.583333</td>\n",
       "      <td>403387.000000</td>\n",
       "      <td>494796.666667</td>\n",
       "      <td>384693.750000</td>\n",
       "      <td>357521.833333</td>\n",
       "      <td>588914.541667</td>\n",
       "    </tr>\n",
       "  </tbody>\n",
       "</table>\n",
       "</div>"
      ],
      "text/plain": [
       "Location       Auckland   Christchurch  North Island Metro          Other  \\\n",
       "Year                                                                        \n",
       "2018      787081.250000  406946.833333       492604.166667  381072.916667   \n",
       "2019      766889.583333  403387.000000       494796.666667  384693.750000   \n",
       "\n",
       "Location  South Island Metro     Wellington  \n",
       "Year                                         \n",
       "2018           333691.958333  575256.916667  \n",
       "2019           357521.833333  588914.541667  "
      ]
     },
     "execution_count": 44,
     "metadata": {},
     "output_type": "execute_result"
    }
   ],
   "source": [
    "location_data = yearly_resion.pivot(index='Year', columns='Location', values='Value')\n",
    "location_data"
   ]
  },
  {
   "cell_type": "markdown",
   "id": "5abe41c5-a2d6-4013-ac5f-828dc16a27f8",
   "metadata": {},
   "source": [
    "*Obviously, no Null values amd no duplicated records*"
   ]
  },
  {
   "cell_type": "markdown",
   "id": "c18c87ac-2ea2-4eb1-9ffb-3fd524637cc2",
   "metadata": {},
   "source": [
    "#### **2-5. Merging the dataset(Except Resional data to avoid misleading)**"
   ]
  },
  {
   "cell_type": "code",
   "execution_count": 47,
   "id": "6b75e89d-12ad-4ac0-8c56-421626130603",
   "metadata": {},
   "outputs": [
    {
     "data": {
      "text/html": [
       "<div>\n",
       "<style scoped>\n",
       "    .dataframe tbody tr th:only-of-type {\n",
       "        vertical-align: middle;\n",
       "    }\n",
       "\n",
       "    .dataframe tbody tr th {\n",
       "        vertical-align: top;\n",
       "    }\n",
       "\n",
       "    .dataframe thead th {\n",
       "        text-align: right;\n",
       "    }\n",
       "</style>\n",
       "<table border=\"1\" class=\"dataframe\">\n",
       "  <thead>\n",
       "    <tr style=\"text-align: right;\">\n",
       "      <th></th>\n",
       "      <th>Year</th>\n",
       "      <th>Average HPI</th>\n",
       "      <th>Total value of housing stock</th>\n",
       "      <th>Residential investment (GDP)</th>\n",
       "      <th>Natural increase</th>\n",
       "      <th>Net migration</th>\n",
       "      <th>Total population change</th>\n",
       "      <th>Final consumption expenditure</th>\n",
       "      <th>Net disposable income</th>\n",
       "    </tr>\n",
       "  </thead>\n",
       "  <tbody>\n",
       "    <tr>\n",
       "      <th>0</th>\n",
       "      <td>1990</td>\n",
       "      <td>480.50</td>\n",
       "      <td>125000.0</td>\n",
       "      <td>1922.75</td>\n",
       "      <td>NaN</td>\n",
       "      <td>NaN</td>\n",
       "      <td>NaN</td>\n",
       "      <td>NaN</td>\n",
       "      <td>NaN</td>\n",
       "    </tr>\n",
       "    <tr>\n",
       "      <th>1</th>\n",
       "      <td>1991</td>\n",
       "      <td>470.75</td>\n",
       "      <td>124250.0</td>\n",
       "      <td>1604.50</td>\n",
       "      <td>NaN</td>\n",
       "      <td>NaN</td>\n",
       "      <td>NaN</td>\n",
       "      <td>NaN</td>\n",
       "      <td>NaN</td>\n",
       "    </tr>\n",
       "    <tr>\n",
       "      <th>2</th>\n",
       "      <td>1992</td>\n",
       "      <td>470.50</td>\n",
       "      <td>127250.0</td>\n",
       "      <td>1633.00</td>\n",
       "      <td>31600.0</td>\n",
       "      <td>4600.0</td>\n",
       "      <td>36300.0</td>\n",
       "      <td>NaN</td>\n",
       "      <td>NaN</td>\n",
       "    </tr>\n",
       "    <tr>\n",
       "      <th>3</th>\n",
       "      <td>1993</td>\n",
       "      <td>489.25</td>\n",
       "      <td>135000.0</td>\n",
       "      <td>1877.75</td>\n",
       "      <td>31600.0</td>\n",
       "      <td>14000.0</td>\n",
       "      <td>45600.0</td>\n",
       "      <td>NaN</td>\n",
       "      <td>NaN</td>\n",
       "    </tr>\n",
       "    <tr>\n",
       "      <th>4</th>\n",
       "      <td>1994</td>\n",
       "      <td>545.50</td>\n",
       "      <td>156500.0</td>\n",
       "      <td>2146.50</td>\n",
       "      <td>30600.0</td>\n",
       "      <td>19900.0</td>\n",
       "      <td>50400.0</td>\n",
       "      <td>NaN</td>\n",
       "      <td>NaN</td>\n",
       "    </tr>\n",
       "  </tbody>\n",
       "</table>\n",
       "</div>"
      ],
      "text/plain": [
       "   Year  Average HPI  Total value of housing stock  \\\n",
       "0  1990       480.50                      125000.0   \n",
       "1  1991       470.75                      124250.0   \n",
       "2  1992       470.50                      127250.0   \n",
       "3  1993       489.25                      135000.0   \n",
       "4  1994       545.50                      156500.0   \n",
       "\n",
       "   Residential investment (GDP)  Natural increase  Net migration  \\\n",
       "0                       1922.75               NaN            NaN   \n",
       "1                       1604.50               NaN            NaN   \n",
       "2                       1633.00           31600.0         4600.0   \n",
       "3                       1877.75           31600.0        14000.0   \n",
       "4                       2146.50           30600.0        19900.0   \n",
       "\n",
       "   Total population change  Final consumption expenditure  \\\n",
       "0                      NaN                            NaN   \n",
       "1                      NaN                            NaN   \n",
       "2                  36300.0                            NaN   \n",
       "3                  45600.0                            NaN   \n",
       "4                  50400.0                            NaN   \n",
       "\n",
       "   Net disposable income  \n",
       "0                    NaN  \n",
       "1                    NaN  \n",
       "2                    NaN  \n",
       "3                    NaN  \n",
       "4                    NaN  "
      ]
     },
     "execution_count": 47,
     "metadata": {},
     "output_type": "execute_result"
    }
   ],
   "source": [
    "merged_df = yearly_data \\\n",
    ".merge(population_data, on=\"Year\", how=\"left\") \\\n",
    ".merge(annual_income, on=\"Year\", how=\"left\") \n",
    "\n",
    "merged_df.head()"
   ]
  },
  {
   "cell_type": "markdown",
   "id": "d61102a4-42ad-4b5d-aca8-476821d1d5b9",
   "metadata": {},
   "source": [
    "#### **Storing DataFrame into SQLite**"
   ]
  },
  {
   "cell_type": "code",
   "execution_count": 49,
   "id": "c11a48eb-fc37-4370-ba62-a642446f495d",
   "metadata": {},
   "outputs": [
    {
     "name": "stdout",
     "output_type": "stream",
     "text": [
      "Requirement already satisfied: sqlalchemy in c:\\users\\pc\\anaconda3\\lib\\site-packages (2.0.25)\n",
      "Requirement already satisfied: typing-extensions>=4.6.0 in c:\\users\\pc\\anaconda3\\lib\\site-packages (from sqlalchemy) (4.9.0)\n",
      "Requirement already satisfied: greenlet!=0.4.17 in c:\\users\\pc\\anaconda3\\lib\\site-packages (from sqlalchemy) (3.0.1)\n"
     ]
    },
    {
     "data": {
      "text/html": [
       "<div>\n",
       "<style scoped>\n",
       "    .dataframe tbody tr th:only-of-type {\n",
       "        vertical-align: middle;\n",
       "    }\n",
       "\n",
       "    .dataframe tbody tr th {\n",
       "        vertical-align: top;\n",
       "    }\n",
       "\n",
       "    .dataframe thead th {\n",
       "        text-align: right;\n",
       "    }\n",
       "</style>\n",
       "<table border=\"1\" class=\"dataframe\">\n",
       "  <thead>\n",
       "    <tr style=\"text-align: right;\">\n",
       "      <th></th>\n",
       "      <th>Year</th>\n",
       "      <th>Average HPI</th>\n",
       "      <th>Total value of housing stock</th>\n",
       "      <th>Residential investment (GDP)</th>\n",
       "      <th>Natural increase</th>\n",
       "      <th>Net migration</th>\n",
       "      <th>Total population change</th>\n",
       "      <th>Final consumption expenditure</th>\n",
       "      <th>Net disposable income</th>\n",
       "    </tr>\n",
       "  </thead>\n",
       "  <tbody>\n",
       "    <tr>\n",
       "      <th>0</th>\n",
       "      <td>1990</td>\n",
       "      <td>480.50</td>\n",
       "      <td>125000.0</td>\n",
       "      <td>1922.75</td>\n",
       "      <td>NaN</td>\n",
       "      <td>NaN</td>\n",
       "      <td>NaN</td>\n",
       "      <td>None</td>\n",
       "      <td>None</td>\n",
       "    </tr>\n",
       "    <tr>\n",
       "      <th>1</th>\n",
       "      <td>1991</td>\n",
       "      <td>470.75</td>\n",
       "      <td>124250.0</td>\n",
       "      <td>1604.50</td>\n",
       "      <td>NaN</td>\n",
       "      <td>NaN</td>\n",
       "      <td>NaN</td>\n",
       "      <td>None</td>\n",
       "      <td>None</td>\n",
       "    </tr>\n",
       "    <tr>\n",
       "      <th>2</th>\n",
       "      <td>1992</td>\n",
       "      <td>470.50</td>\n",
       "      <td>127250.0</td>\n",
       "      <td>1633.00</td>\n",
       "      <td>31600.0</td>\n",
       "      <td>4600.0</td>\n",
       "      <td>36300.0</td>\n",
       "      <td>None</td>\n",
       "      <td>None</td>\n",
       "    </tr>\n",
       "    <tr>\n",
       "      <th>3</th>\n",
       "      <td>1993</td>\n",
       "      <td>489.25</td>\n",
       "      <td>135000.0</td>\n",
       "      <td>1877.75</td>\n",
       "      <td>31600.0</td>\n",
       "      <td>14000.0</td>\n",
       "      <td>45600.0</td>\n",
       "      <td>None</td>\n",
       "      <td>None</td>\n",
       "    </tr>\n",
       "    <tr>\n",
       "      <th>4</th>\n",
       "      <td>1994</td>\n",
       "      <td>545.50</td>\n",
       "      <td>156500.0</td>\n",
       "      <td>2146.50</td>\n",
       "      <td>30600.0</td>\n",
       "      <td>19900.0</td>\n",
       "      <td>50400.0</td>\n",
       "      <td>None</td>\n",
       "      <td>None</td>\n",
       "    </tr>\n",
       "  </tbody>\n",
       "</table>\n",
       "</div>"
      ],
      "text/plain": [
       "   Year  Average HPI  Total value of housing stock  \\\n",
       "0  1990       480.50                      125000.0   \n",
       "1  1991       470.75                      124250.0   \n",
       "2  1992       470.50                      127250.0   \n",
       "3  1993       489.25                      135000.0   \n",
       "4  1994       545.50                      156500.0   \n",
       "\n",
       "   Residential investment (GDP)  Natural increase  Net migration  \\\n",
       "0                       1922.75               NaN            NaN   \n",
       "1                       1604.50               NaN            NaN   \n",
       "2                       1633.00           31600.0         4600.0   \n",
       "3                       1877.75           31600.0        14000.0   \n",
       "4                       2146.50           30600.0        19900.0   \n",
       "\n",
       "   Total population change Final consumption expenditure Net disposable income  \n",
       "0                      NaN                          None                  None  \n",
       "1                      NaN                          None                  None  \n",
       "2                  36300.0                          None                  None  \n",
       "3                  45600.0                          None                  None  \n",
       "4                  50400.0                          None                  None  "
      ]
     },
     "execution_count": 49,
     "metadata": {},
     "output_type": "execute_result"
    }
   ],
   "source": [
    "!pip install sqlalchemy \n",
    "import sqlite3\n",
    "conn = sqlite3.connect('housing_price.db')\n",
    "\n",
    "merged_df.to_sql(\"merged_df_sql\", conn, if_exists=\"replace\", index=False)\n",
    "pd.read_sql(\"SELECT * FROM merged_df_sql LIMIT 5\", conn)"
   ]
  },
  {
   "cell_type": "markdown",
   "id": "5df98e97-6b4e-402a-a6b2-305898fd7143",
   "metadata": {},
   "source": [
    "### **4. Exploratory Data Analysis (EDA)**"
   ]
  },
  {
   "cell_type": "markdown",
   "id": "0c34dc06-1df3-4f4a-8ff9-b33e071fa4c6",
   "metadata": {},
   "source": [
    "#### **4-1. Use Random Forest feature importance analysis to identify potential key predictors**"
   ]
  },
  {
   "cell_type": "code",
   "execution_count": 52,
   "id": "f229d9e0-5941-48eb-9292-b79dedf049ab",
   "metadata": {},
   "outputs": [
    {
     "name": "stdout",
     "output_type": "stream",
     "text": [
      "                         Feature  Importance\n",
      "2   Residential investment (GDP)    0.181102\n",
      "4                  Net migration    0.177246\n",
      "1   Total value of housing stock    0.167899\n",
      "5        Total population change    0.156651\n",
      "0                           Year    0.143212\n",
      "3               Natural increase    0.073193\n",
      "7          Net disposable income    0.059451\n",
      "6  Final consumption expenditure    0.041245\n"
     ]
    }
   ],
   "source": [
    "import pandas as pd\n",
    "from sklearn.ensemble import RandomForestRegressor\n",
    "\n",
    "merged_df= merged_df.dropna()\n",
    "X = merged_df[['Year', 'Total value of housing stock', 'Residential investment (GDP)', 'Natural increase', 'Net migration', 'Total population change', 'Final consumption expenditure', 'Net disposable income']]\n",
    "y = merged_df['Average HPI']\n",
    "\n",
    "model = RandomForestRegressor(\n",
    "    n_estimators=100,  \n",
    "    random_state=42,   \n",
    "    max_depth=5        \n",
    ")\n",
    "\n",
    "\n",
    "model.fit(X, y)\n",
    "\n",
    "model.fit(X, y)\n",
    "\n",
    "\n",
    "feature_importance = pd.DataFrame({\n",
    "    'Feature': X.columns,\n",
    "    'Importance': model.feature_importances_\n",
    "}).sort_values('Importance', ascending=False)\n",
    "\n",
    "print(feature_importance)"
   ]
  },
  {
   "cell_type": "markdown",
   "id": "b03b50e3-9b6c-428b-ae54-f2537f3bf011",
   "metadata": {},
   "source": [
    "*Visualize the feature importance with a bar chart for clarity.*"
   ]
  },
  {
   "cell_type": "code",
   "execution_count": 53,
   "id": "fb387459-2a93-4596-8f2f-af44eff2636d",
   "metadata": {},
   "outputs": [
    {
     "data": {
      "image/png": "[encoded data removed]",
      "text/plain": [
       "<Figure size 1000x600 with 1 Axes>"
      ]
     },
     "metadata": {},
     "output_type": "display_data"
    }
   ],
   "source": [
    "import matplotlib.pyplot as plt\n",
    "\n",
    "plt.figure(figsize=(10, 6))\n",
    "plt.barh(feature_importance['Feature'], feature_importance['Importance'])\n",
    "plt.xlabel('Importance')\n",
    "plt.title('Feature Importance')\n",
    "plt.show()"
   ]
  },
  {
   "cell_type": "markdown",
   "id": "cdd25be2-5495-478a-885d-a2a236cdaa9f",
   "metadata": {},
   "source": [
    "**We exclude 'Final consumption expenditure', 'Net disposable income', and 'Natural increase' from the merged dataset due to their limited data points and minimal impact on HPI, focusing instead on the five most influential features to create a more robust dataset.**"
   ]
  },
  {
   "cell_type": "code",
   "execution_count": 56,
   "id": "66a48817-f411-40ce-8978-638994f0bc21",
   "metadata": {},
   "outputs": [
    {
     "data": {
      "text/html": [
       "<div>\n",
       "<style scoped>\n",
       "    .dataframe tbody tr th:only-of-type {\n",
       "        vertical-align: middle;\n",
       "    }\n",
       "\n",
       "    .dataframe tbody tr th {\n",
       "        vertical-align: top;\n",
       "    }\n",
       "\n",
       "    .dataframe thead th {\n",
       "        text-align: right;\n",
       "    }\n",
       "</style>\n",
       "<table border=\"1\" class=\"dataframe\">\n",
       "  <thead>\n",
       "    <tr style=\"text-align: right;\">\n",
       "      <th></th>\n",
       "      <th>Year</th>\n",
       "      <th>Average HPI</th>\n",
       "      <th>Total value of housing stock</th>\n",
       "      <th>Residential investment (GDP)</th>\n",
       "      <th>Natural increase</th>\n",
       "      <th>Net migration</th>\n",
       "      <th>Total population change</th>\n",
       "      <th>Final consumption expenditure</th>\n",
       "      <th>Net disposable income</th>\n",
       "    </tr>\n",
       "  </thead>\n",
       "  <tbody>\n",
       "    <tr>\n",
       "      <th>0</th>\n",
       "      <td>1990</td>\n",
       "      <td>480.50</td>\n",
       "      <td>125000.0</td>\n",
       "      <td>1922.75</td>\n",
       "      <td>NaN</td>\n",
       "      <td>NaN</td>\n",
       "      <td>NaN</td>\n",
       "      <td>NaN</td>\n",
       "      <td>NaN</td>\n",
       "    </tr>\n",
       "    <tr>\n",
       "      <th>1</th>\n",
       "      <td>1991</td>\n",
       "      <td>470.75</td>\n",
       "      <td>124250.0</td>\n",
       "      <td>1604.50</td>\n",
       "      <td>NaN</td>\n",
       "      <td>NaN</td>\n",
       "      <td>NaN</td>\n",
       "      <td>NaN</td>\n",
       "      <td>NaN</td>\n",
       "    </tr>\n",
       "    <tr>\n",
       "      <th>2</th>\n",
       "      <td>1992</td>\n",
       "      <td>470.50</td>\n",
       "      <td>127250.0</td>\n",
       "      <td>1633.00</td>\n",
       "      <td>31600.0</td>\n",
       "      <td>4600.0</td>\n",
       "      <td>36300.0</td>\n",
       "      <td>NaN</td>\n",
       "      <td>NaN</td>\n",
       "    </tr>\n",
       "    <tr>\n",
       "      <th>3</th>\n",
       "      <td>1993</td>\n",
       "      <td>489.25</td>\n",
       "      <td>135000.0</td>\n",
       "      <td>1877.75</td>\n",
       "      <td>31600.0</td>\n",
       "      <td>14000.0</td>\n",
       "      <td>45600.0</td>\n",
       "      <td>NaN</td>\n",
       "      <td>NaN</td>\n",
       "    </tr>\n",
       "    <tr>\n",
       "      <th>4</th>\n",
       "      <td>1994</td>\n",
       "      <td>545.50</td>\n",
       "      <td>156500.0</td>\n",
       "      <td>2146.50</td>\n",
       "      <td>30600.0</td>\n",
       "      <td>19900.0</td>\n",
       "      <td>50400.0</td>\n",
       "      <td>NaN</td>\n",
       "      <td>NaN</td>\n",
       "    </tr>\n",
       "  </tbody>\n",
       "</table>\n",
       "</div>"
      ],
      "text/plain": [
       "   Year  Average HPI  Total value of housing stock  \\\n",
       "0  1990       480.50                      125000.0   \n",
       "1  1991       470.75                      124250.0   \n",
       "2  1992       470.50                      127250.0   \n",
       "3  1993       489.25                      135000.0   \n",
       "4  1994       545.50                      156500.0   \n",
       "\n",
       "   Residential investment (GDP)  Natural increase  Net migration  \\\n",
       "0                       1922.75               NaN            NaN   \n",
       "1                       1604.50               NaN            NaN   \n",
       "2                       1633.00           31600.0         4600.0   \n",
       "3                       1877.75           31600.0        14000.0   \n",
       "4                       2146.50           30600.0        19900.0   \n",
       "\n",
       "   Total population change  Final consumption expenditure  \\\n",
       "0                      NaN                            NaN   \n",
       "1                      NaN                            NaN   \n",
       "2                  36300.0                            NaN   \n",
       "3                  45600.0                            NaN   \n",
       "4                  50400.0                            NaN   \n",
       "\n",
       "   Net disposable income  \n",
       "0                    NaN  \n",
       "1                    NaN  \n",
       "2                    NaN  \n",
       "3                    NaN  \n",
       "4                    NaN  "
      ]
     },
     "execution_count": 56,
     "metadata": {},
     "output_type": "execute_result"
    }
   ],
   "source": [
    "merged_df_nan = yearly_data \\\n",
    ".merge(population_data, on=\"Year\", how=\"left\") \\\n",
    ".merge(annual_income, on=\"Year\", how=\"left\") \n",
    "merged_df_nan.head()"
   ]
  },
  {
   "cell_type": "markdown",
   "id": "bd81c35c-9045-43c1-b95b-77ee3d98c0d1",
   "metadata": {},
   "source": [
    "We remove null values."
   ]
  },
  {
   "cell_type": "code",
   "execution_count": 57,
   "id": "212cd5da-eeff-403a-b83a-5992d8e8b273",
   "metadata": {},
   "outputs": [
    {
     "data": {
      "text/html": [
       "<div>\n",
       "<style scoped>\n",
       "    .dataframe tbody tr th:only-of-type {\n",
       "        vertical-align: middle;\n",
       "    }\n",
       "\n",
       "    .dataframe tbody tr th {\n",
       "        vertical-align: top;\n",
       "    }\n",
       "\n",
       "    .dataframe thead th {\n",
       "        text-align: right;\n",
       "    }\n",
       "</style>\n",
       "<table border=\"1\" class=\"dataframe\">\n",
       "  <thead>\n",
       "    <tr style=\"text-align: right;\">\n",
       "      <th></th>\n",
       "      <th>Average HPI</th>\n",
       "      <th>Residential investment (GDP)</th>\n",
       "      <th>Net migration</th>\n",
       "      <th>Total value of housing stock</th>\n",
       "      <th>Total population change</th>\n",
       "      <th>Year</th>\n",
       "    </tr>\n",
       "  </thead>\n",
       "  <tbody>\n",
       "    <tr>\n",
       "      <th>2</th>\n",
       "      <td>470.50</td>\n",
       "      <td>1633.00</td>\n",
       "      <td>4600.0</td>\n",
       "      <td>127250.0</td>\n",
       "      <td>36300.0</td>\n",
       "      <td>1992</td>\n",
       "    </tr>\n",
       "    <tr>\n",
       "      <th>3</th>\n",
       "      <td>489.25</td>\n",
       "      <td>1877.75</td>\n",
       "      <td>14000.0</td>\n",
       "      <td>135000.0</td>\n",
       "      <td>45600.0</td>\n",
       "      <td>1993</td>\n",
       "    </tr>\n",
       "    <tr>\n",
       "      <th>4</th>\n",
       "      <td>545.50</td>\n",
       "      <td>2146.50</td>\n",
       "      <td>19900.0</td>\n",
       "      <td>156500.0</td>\n",
       "      <td>50400.0</td>\n",
       "      <td>1994</td>\n",
       "    </tr>\n",
       "    <tr>\n",
       "      <th>5</th>\n",
       "      <td>596.00</td>\n",
       "      <td>2201.00</td>\n",
       "      <td>28500.0</td>\n",
       "      <td>175000.0</td>\n",
       "      <td>58400.0</td>\n",
       "      <td>1995</td>\n",
       "    </tr>\n",
       "    <tr>\n",
       "      <th>6</th>\n",
       "      <td>664.50</td>\n",
       "      <td>2280.75</td>\n",
       "      <td>24800.0</td>\n",
       "      <td>196500.0</td>\n",
       "      <td>55600.0</td>\n",
       "      <td>1996</td>\n",
       "    </tr>\n",
       "  </tbody>\n",
       "</table>\n",
       "</div>"
      ],
      "text/plain": [
       "   Average HPI  Residential investment (GDP)  Net migration  \\\n",
       "2       470.50                       1633.00         4600.0   \n",
       "3       489.25                       1877.75        14000.0   \n",
       "4       545.50                       2146.50        19900.0   \n",
       "5       596.00                       2201.00        28500.0   \n",
       "6       664.50                       2280.75        24800.0   \n",
       "\n",
       "   Total value of housing stock  Total population change  Year  \n",
       "2                      127250.0                  36300.0  1992  \n",
       "3                      135000.0                  45600.0  1993  \n",
       "4                      156500.0                  50400.0  1994  \n",
       "5                      175000.0                  58400.0  1995  \n",
       "6                      196500.0                  55600.0  1996  "
      ]
     },
     "execution_count": 57,
     "metadata": {},
     "output_type": "execute_result"
    }
   ],
   "source": [
    "merged_df_5 = merged_df_nan[[\"Average HPI\", \"Residential investment (GDP)\", \"Net migration\",\\\n",
    "               \"Total value of housing stock\",\"Total population change\",\"Year\"]]\n",
    "merged_df_5\n",
    "merged_df_5 = merged_df_5.dropna()\n",
    "merged_df_5.head()"
   ]
  },
  {
   "cell_type": "code",
   "execution_count": 58,
   "id": "295d8876-eaad-43dd-81ca-7e2c1344b119",
   "metadata": {},
   "outputs": [
    {
     "data": {
      "text/plain": [
       "(33, 6)"
      ]
     },
     "execution_count": 58,
     "metadata": {},
     "output_type": "execute_result"
    }
   ],
   "source": [
    "merged_df_5.shape"
   ]
  },
  {
   "cell_type": "markdown",
   "id": "2f5f6852-4b59-4647-bd3b-824c824ebd69",
   "metadata": {},
   "source": [
    "**Now, we can focus on 5 toppest important features and increased data points from 6 to 33 that makes our analyse more accurate.**"
   ]
  },
  {
   "cell_type": "markdown",
   "id": "fbf6b174-d8dc-4836-bea0-e9874a7822f5",
   "metadata": {},
   "source": [
    "#### **4-2. Converting the merged dataset and resional dataset to CSV format for Power BI analysis**"
   ]
  },
  {
   "cell_type": "code",
   "execution_count": 61,
   "id": "e86edc4a-077b-4b9b-b738-b20afa0ddd36",
   "metadata": {},
   "outputs": [],
   "source": [
    "merged_df_5.to_csv(\"merged_df_5.csv\", index=False)\n",
    "yearly_resion.to_csv(\"yearly_resion.csv\", index=False)"
   ]
  },
  {
   "cell_type": "code",
   "execution_count": 62,
   "id": "5a70cbae-d435-4a75-8687-e40687e947e1",
   "metadata": {},
   "outputs": [
    {
     "name": "stdout",
     "output_type": "stream",
     "text": [
      "C:\\Users\\pc\\Visualization and Forecasting of Housing Prices and Population Dynamics\n"
     ]
    }
   ],
   "source": [
    "#Check the directory\n",
    "import os\n",
    "print(os.getcwd())"
   ]
  },
  {
   "cell_type": "markdown",
   "id": "c3797fb8-2080-4c03-abc3-d481378c49ed",
   "metadata": {},
   "source": [
    "#### **4-3. Analyzing Correlation coefficientt and Pvalu of the five most influential features**\n",
    "We expanded the dataset to include additional data points that may alter the feature importance rankings."
   ]
  },
  {
   "cell_type": "code",
   "execution_count": 64,
   "id": "ba5804c7-720e-4ca8-9c25-01d8b082c00b",
   "metadata": {},
   "outputs": [],
   "source": [
    "from scipy.stats import pearsonr"
   ]
  },
  {
   "cell_type": "markdown",
   "id": "27e9dc23-78db-41a3-8a04-5fb5f4f7581d",
   "metadata": {},
   "source": [
    "- **Average HPI VS Residential investment (GDP)**"
   ]
  },
  {
   "cell_type": "code",
   "execution_count": 66,
   "id": "b98601e6-a411-4c2c-8218-f607a1a6199d",
   "metadata": {},
   "outputs": [
    {
     "name": "stdout",
     "output_type": "stream",
     "text": [
      "Correlation coefficient :  0.881\n",
      "pvalue: 0.00000\n"
     ]
    }
   ],
   "source": [
    "correlation, p_value = pearsonr(merged_df_5[\"Average HPI\"], merged_df_5[\"Residential investment (GDP)\"])\n",
    "print(f\"Correlation coefficient : {correlation: .3f}\")\n",
    "print(f\"pvalue:{p_value: .5f}\")"
   ]
  },
  {
   "cell_type": "markdown",
   "id": "00fdbade-2a00-4cc2-aa6e-4389decdf87b",
   "metadata": {},
   "source": [
    "*Strong positive relationship and Statistically significant*"
   ]
  },
  {
   "cell_type": "markdown",
   "id": "b863f8ac-6e7a-47ca-bdb4-d7232bbf226c",
   "metadata": {},
   "source": [
    "- **Average HPI VS Net migration**"
   ]
  },
  {
   "cell_type": "code",
   "execution_count": 69,
   "id": "4885a280-c125-4574-8cdb-4b6759ad757e",
   "metadata": {},
   "outputs": [
    {
     "name": "stdout",
     "output_type": "stream",
     "text": [
      "Correlation coefficient :  0.465\n",
      "pvalue: 0.00636\n"
     ]
    }
   ],
   "source": [
    "correlation, p_value = pearsonr(merged_df_5[\"Average HPI\"], merged_df_5[\"Net migration\"])\n",
    "print(f\"Correlation coefficient : {correlation: .3f}\")\n",
    "print(f\"pvalue:{p_value: .5f}\")"
   ]
  },
  {
   "cell_type": "markdown",
   "id": "40ef3908-2942-489a-8baf-9d295842e13d",
   "metadata": {},
   "source": [
    "*Moderate positive correlation and Statistically significant*"
   ]
  },
  {
   "cell_type": "markdown",
   "id": "3d2d2421-11e5-41c7-a530-aa8964f9efed",
   "metadata": {},
   "source": [
    "- **Average HPI VS Total value of housing stock**"
   ]
  },
  {
   "cell_type": "code",
   "execution_count": 72,
   "id": "690af454-423c-4607-b69d-963e67f654a3",
   "metadata": {},
   "outputs": [
    {
     "name": "stdout",
     "output_type": "stream",
     "text": [
      "Correlation coefficient :  0.999\n",
      "pvalue: 0.00000\n"
     ]
    }
   ],
   "source": [
    "correlation, p_value = pearsonr(merged_df_5[\"Average HPI\"], merged_df_5[\"Total value of housing stock\"])\n",
    "print(f\"Correlation coefficient : {correlation: .3f}\")\n",
    "print(f\"pvalue:{p_value: .5f}\")"
   ]
  },
  {
   "cell_type": "markdown",
   "id": "bbaa556a-4e91-45ae-81f6-05895e4d06c9",
   "metadata": {},
   "source": [
    "*Strong positive correlation and Highly significant (strong evidence against null hypothesis)*"
   ]
  },
  {
   "cell_type": "markdown",
   "id": "73eab2de-62e4-4cb5-9fa5-7d1d9d642c47",
   "metadata": {},
   "source": [
    "- **Average HPI VS Total population change**"
   ]
  },
  {
   "cell_type": "code",
   "execution_count": 75,
   "id": "8c55dedb-fb14-4058-9849-3fac3b51f201",
   "metadata": {},
   "outputs": [
    {
     "name": "stdout",
     "output_type": "stream",
     "text": [
      "Correlation coefficient :  0.304\n",
      "pvalue: 0.08569\n"
     ]
    }
   ],
   "source": [
    "correlation, p_value = pearsonr(merged_df_5[\"Average HPI\"], merged_df_5[\"Total population change\"])\n",
    "print(f\"Correlation coefficient : {correlation: .3f}\")\n",
    "print(f\"pvalue:{p_value: .5f}\")"
   ]
  },
  {
   "cell_type": "markdown",
   "id": "a4a4d1cb-6ca6-4512-b0f4-25dbad0dcf8f",
   "metadata": {},
   "source": [
    "*No meaningful correlation*"
   ]
  },
  {
   "cell_type": "markdown",
   "id": "6999c4c2-75a9-48d6-90f0-92c548838986",
   "metadata": {},
   "source": [
    "- **Average HPI VS Year**"
   ]
  },
  {
   "cell_type": "code",
   "execution_count": 78,
   "id": "47ae85dd-81c3-4185-a6cf-0baeee15d55c",
   "metadata": {},
   "outputs": [
    {
     "name": "stdout",
     "output_type": "stream",
     "text": [
      "Correlation coefficient :  0.949\n",
      "pvalue: 0.00000\n"
     ]
    }
   ],
   "source": [
    "correlation, p_value = pearsonr(merged_df_5[\"Average HPI\"],merged_df_5[\"Year\"])\n",
    "print(f\"Correlation coefficient : {correlation: .3f}\")\n",
    "print(f\"pvalue:{p_value: .5f}\")"
   ]
  },
  {
   "cell_type": "markdown",
   "id": "78f85ee4-9905-4b2a-8960-3bbe3143f257",
   "metadata": {},
   "source": [
    "*Strong positive correlation and Highly significant*"
   ]
  },
  {
   "cell_type": "markdown",
   "id": "74c22066-09fa-468b-a1c6-0f25897dfced",
   "metadata": {},
   "source": [
    "**Based on the correlation coefficients and p-values, we observe significant changes in feature importance rankings. To visualize these shifts, we will generate a comparative bar graph.**"
   ]
  },
  {
   "cell_type": "code",
   "execution_count": 81,
   "id": "d5e1dcc8-0294-4fa6-8373-e3e17689adb8",
   "metadata": {},
   "outputs": [
    {
     "name": "stdout",
     "output_type": "stream",
     "text": [
      "                        Feature  Importance\n",
      "4                          Year    0.429731\n",
      "2  Total value of housing stock    0.338783\n",
      "0  Residential investment (GDP)    0.216872\n",
      "3       Total population change    0.008442\n",
      "1                 Net migration    0.006172\n"
     ]
    }
   ],
   "source": [
    "import pandas as pd\n",
    "from sklearn.ensemble import RandomForestRegressor\n",
    "\n",
    "X1 = merged_df_5[['Residential investment (GDP)', 'Net migration', 'Total value of housing stock', 'Total population change', 'Year']]\n",
    "y1 = merged_df_5['Average HPI']\n",
    "\n",
    "model1 = RandomForestRegressor(\n",
    "    n_estimators=100,\n",
    "    random_state=42,\n",
    "    max_depth=5\n",
    ")\n",
    "\n",
    "model1.fit(X1,y1)\n",
    "\n",
    "feature_importance1 = pd.DataFrame({\n",
    "    'Feature': X1.columns,\n",
    "    'Importance': model1.feature_importances_\n",
    "}).sort_values('Importance', ascending=False)\n",
    "\n",
    "print(feature_importance1)"
   ]
  },
  {
   "cell_type": "code",
   "execution_count": 377,
   "id": "45853007-3c9d-4dd0-bfbc-ae7b30b1a144",
   "metadata": {},
   "outputs": [],
   "source": [
    "feature_importance1.to_csv(\"feature_importance1.csv\",index=False) "
   ]
  },
  {
   "cell_type": "code",
   "execution_count": 82,
   "id": "66078287-76ff-455b-b222-4b560cee324e",
   "metadata": {},
   "outputs": [
    {
     "data": {
      "image/png": "[encoded data removed]",
      "text/plain": [
       "<Figure size 1000x600 with 1 Axes>"
      ]
     },
     "metadata": {},
     "output_type": "display_data"
    }
   ],
   "source": [
    "import matplotlib.pyplot as plt\n",
    "\n",
    "plt.figure(figsize=(10, 6))\n",
    "plt.barh(feature_importance1['Feature'], feature_importance1['Importance'])\n",
    "plt.xlabel('Importance')\n",
    "plt.title('Feature Importance')\n",
    "plt.show()"
   ]
  },
  {
   "cell_type": "markdown",
   "id": "5a525ea8-4dbb-4ae3-9c51-8d09e4b2592d",
   "metadata": {},
   "source": [
    "**Since insights from the feature importance bar chart, I analyzed the relationships between the top three influential features and HPI in Power BI. Additionally, I examined regional datasets to understand geographic variations in housing prices.**\n",
    "\n",
    "(I incorporated the Power BI data into a dashboard.)"
   ]
  },
  {
   "cell_type": "markdown",
   "id": "330b227b-5a68-4ef3-a1d7-9eb4ebe17c7f",
   "metadata": {},
   "source": [
    "#### **4-4. Summerize of EDA**"
   ]
  },
  {
   "cell_type": "markdown",
   "id": "7cd97336-924e-44a5-ba05-b45ad30f73c5",
   "metadata": {},
   "source": [
    "- The bar chart indicates that Year has the strongest correlation with **HPI** (r = 0.949), followed by **Total value of housing stock** and **Residential investment (GDP)** as the second and third most influential features, respectively.\n",
    "- **Housing prices (HPI)** exhibited sustained growth until 2021 but entered a decline thereafter, likely influenced by post-pandemic economic conditions such as rising interest rates and shifting housing demand patterns.\n",
    "- **Residential investment (GDP)** also show strong positive correlation with HPI, indicating economic growth may drive demand.\n",
    "- **Net migration(r = 0.465)** and **Total population changes(r = 0.304)** demonstrate weak-to-moderate correlations with HPI, suggesting limited predictive relevance for housing price dynamics in this dataset.\n",
    "- As expected, **Total value of housing stock** demonstrates a stable positive relationship with HPI, confirming its reliability as a fundamental indicator of housing market health.\n",
    "- The **Regional data** analysis reveals that housing prices in Auckland are consistently the highest, while South Island Metro areas (smaller urban centers in the South Island such as Dunedin and Nelson, excluding Christchurch) record the lowest prices.\n",
    "- Between 2018 and 2019, housing prices showed an overall upward trend, while Auckland and Christchurch experienced marginal declines.\n",
    "\n",
    "- **Unexpected Results: Population Change and HPI**: During the EDA, I expected a significant correlation between population change and net migration with the Housing Price Index (HPI). However, the analysis showed weak or no correlation between these variables and HPI.\n",
    "\n",
    "**Possible reasons:**\n",
    "\n",
    "- Supply-side factors: such as housing stock and residential investment, may have had a greater impact on HPI.\n",
    "\n",
    "- Lag effects: Population changes may take years to impact housing prices.\n",
    "\n",
    "- Regional variations: HPI trends might differ by region, especially in larger cities like Auckland."
   ]
  },
  {
   "cell_type": "markdown",
   "id": "e1662944-dd04-40e3-b0f7-21a1e67881de",
   "metadata": {},
   "source": [
    "## **5. Forecasting**"
   ]
  },
  {
   "cell_type": "markdown",
   "id": "96589d65-d6f4-4a45-bb63-b7217108af17",
   "metadata": {},
   "source": [
    "**I chose ARIMA, Random Forest and Liner Regression to compare.**\n",
    "\n",
    "*Why I chose these three* :\n",
    "\n",
    "I selected these three models to compare traditional statistical forecasting (ARIMA), machine learning (Random Forest), and simple trend modeling (Linear Regression). This combination allows me to evaluate performance across different modeling approaches—time series-based, non-linear, and linear—using the same dataset for housing price trends."
   ]
  },
  {
   "cell_type": "markdown",
   "id": "847524a6-b349-4b0a-b402-14c8c005f949",
   "metadata": {},
   "source": [
    "#### **5-1.Time Series Forecasting (ARIMA)**"
   ]
  },
  {
   "cell_type": "code",
   "execution_count": 217,
   "id": "fd3630a7-4392-47c5-89ca-8e14f0b5f2e8",
   "metadata": {},
   "outputs": [
    {
     "data": {
      "text/html": [
       "<div>\n",
       "<style scoped>\n",
       "    .dataframe tbody tr th:only-of-type {\n",
       "        vertical-align: middle;\n",
       "    }\n",
       "\n",
       "    .dataframe tbody tr th {\n",
       "        vertical-align: top;\n",
       "    }\n",
       "\n",
       "    .dataframe thead th {\n",
       "        text-align: right;\n",
       "    }\n",
       "</style>\n",
       "<table border=\"1\" class=\"dataframe\">\n",
       "  <thead>\n",
       "    <tr style=\"text-align: right;\">\n",
       "      <th></th>\n",
       "      <th>Year</th>\n",
       "      <th>Average HPI</th>\n",
       "    </tr>\n",
       "  </thead>\n",
       "  <tbody>\n",
       "    <tr>\n",
       "      <th>2</th>\n",
       "      <td>1992</td>\n",
       "      <td>470.50</td>\n",
       "    </tr>\n",
       "    <tr>\n",
       "      <th>3</th>\n",
       "      <td>1993</td>\n",
       "      <td>489.25</td>\n",
       "    </tr>\n",
       "    <tr>\n",
       "      <th>4</th>\n",
       "      <td>1994</td>\n",
       "      <td>545.50</td>\n",
       "    </tr>\n",
       "    <tr>\n",
       "      <th>5</th>\n",
       "      <td>1995</td>\n",
       "      <td>596.00</td>\n",
       "    </tr>\n",
       "    <tr>\n",
       "      <th>6</th>\n",
       "      <td>1996</td>\n",
       "      <td>664.50</td>\n",
       "    </tr>\n",
       "  </tbody>\n",
       "</table>\n",
       "</div>"
      ],
      "text/plain": [
       "   Year  Average HPI\n",
       "2  1992       470.50\n",
       "3  1993       489.25\n",
       "4  1994       545.50\n",
       "5  1995       596.00\n",
       "6  1996       664.50"
      ]
     },
     "execution_count": 217,
     "metadata": {},
     "output_type": "execute_result"
    }
   ],
   "source": [
    "#Make year-HPI dataset for ARIM.\n",
    "yearly_df_ARIMA = merged_df_5[[\"Year\", \"Average HPI\"]]\n",
    "yearly_df_ARIMA.head()"
   ]
  },
  {
   "cell_type": "code",
   "execution_count": 209,
   "id": "bb04665a-aa36-4957-83f7-ff35349e55bb",
   "metadata": {},
   "outputs": [
    {
     "name": "stdout",
     "output_type": "stream",
     "text": [
      "['Year', 'Average HPI']\n"
     ]
    }
   ],
   "source": [
    "print(yearly_df_ARIMA.columns.tolist())"
   ]
  },
  {
   "cell_type": "markdown",
   "id": "56ec7e6e-d17a-4cbc-bde3-1b94ed9e0de3",
   "metadata": {},
   "source": [
    "Predict HPI using AMIRA"
   ]
  },
  {
   "cell_type": "code",
   "execution_count": 213,
   "id": "3680974c-f7d5-4384-b8d6-76c56a81c4b5",
   "metadata": {},
   "outputs": [
    {
     "name": "stdout",
     "output_type": "stream",
     "text": [
      "    Year  Predicted Average HPI\n",
      "33  2025            3418.720876\n",
      "34  2026            3418.607450\n",
      "35  2027            3418.609605\n",
      "36  2028            3418.609564\n",
      "37  2029            3418.609565\n",
      "38  2030            3418.609565\n"
     ]
    },
    {
     "name": "stderr",
     "output_type": "stream",
     "text": [
      "C:\\Users\\pc\\anaconda3\\Lib\\site-packages\\statsmodels\\tsa\\base\\tsa_model.py:473: ValueWarning: An unsupported index was provided and will be ignored when e.g. forecasting.\n",
      "  self._init_dates(dates, freq)\n",
      "C:\\Users\\pc\\anaconda3\\Lib\\site-packages\\statsmodels\\tsa\\base\\tsa_model.py:473: ValueWarning: An unsupported index was provided and will be ignored when e.g. forecasting.\n",
      "  self._init_dates(dates, freq)\n",
      "C:\\Users\\pc\\anaconda3\\Lib\\site-packages\\statsmodels\\tsa\\base\\tsa_model.py:473: ValueWarning: An unsupported index was provided and will be ignored when e.g. forecasting.\n",
      "  self._init_dates(dates, freq)\n",
      "C:\\Users\\pc\\anaconda3\\Lib\\site-packages\\statsmodels\\tsa\\base\\tsa_model.py:836: ValueWarning: No supported index is available. Prediction results will be given with an integer index beginning at `start`.\n",
      "  return get_prediction_index(\n",
      "C:\\Users\\pc\\anaconda3\\Lib\\site-packages\\statsmodels\\tsa\\base\\tsa_model.py:836: FutureWarning: No supported index is available. In the next version, calling this method in a model without a supported index will result in an exception.\n",
      "  return get_prediction_index(\n"
     ]
    }
   ],
   "source": [
    "from statsmodels.tsa.arima.model import ARIMA\n",
    "import matplotlib.pyplot as plt\n",
    "\n",
    "\n",
    "model_ARIMA = ARIMA(yearly_df_ARIMA['Average HPI'], order=(1, 1, 1))\n",
    "model_fit_ARIMA = model_ARIMA.fit()\n",
    "\n",
    "\n",
    "forecast_ARIMA = model_fit_ARIMA.forecast(steps=6)\n",
    "\n",
    "\n",
    "forecast_years = list(range(yearly_data_ARIMA.index[-1] + 1, yearly_data_ARIMA.index[-1] + 7))\n",
    "\n",
    "\n",
    "forecast_ARIMA = pd.DataFrame({\n",
    "    'Year': forecast_years,\n",
    "    'Predicted Average HPI': forecast_ARIMA\n",
    "})\n",
    "\n",
    "print(forecast_ARIMA)\n"
   ]
  },
  {
   "cell_type": "markdown",
   "id": "6f8c1720-4178-4bda-b5f4-5cc4594e6b14",
   "metadata": {},
   "source": [
    "ARIMA Model Forecast Results:\n",
    "\n",
    "The results show that the forecasted values from 2025 to 2030 remain almost constant at approximately 3418.61. This suggests that the model predicts a stable trend in the future. Despite the past data (from 1992 to 2024) showing a steady increase in HPI, the ARIMA model was not able to capture the sharp rise in recent years, which might explain the constant forecasted values.\n",
    "\n",
    "These results indicate a stable forecast, assuming no major fluctuations in HPI in the future. However, given the recent rapid increase in HPI, future model improvements such as using Random Forest or Prophet may allow for more accurate predictions that account for potential fluctuations and trends."
   ]
  },
  {
   "cell_type": "markdown",
   "id": "69cc3df0-b5a5-43ee-a8f3-9991546f420a",
   "metadata": {},
   "source": [
    "**Analyzing Coefficient of determination and Mean Absolute Error of the AMIRA model**"
   ]
  },
  {
   "cell_type": "code",
   "execution_count": 148,
   "id": "b3fc7539-3839-406b-bc0a-46cc9a4f0420",
   "metadata": {},
   "outputs": [
    {
     "name": "stderr",
     "output_type": "stream",
     "text": [
      "C:\\Users\\pc\\anaconda3\\Lib\\site-packages\\statsmodels\\tsa\\base\\tsa_model.py:473: ValueWarning: An unsupported index was provided and will be ignored when e.g. forecasting.\n",
      "  self._init_dates(dates, freq)\n",
      "C:\\Users\\pc\\anaconda3\\Lib\\site-packages\\statsmodels\\tsa\\base\\tsa_model.py:473: ValueWarning: An unsupported index was provided and will be ignored when e.g. forecasting.\n",
      "  self._init_dates(dates, freq)\n",
      "C:\\Users\\pc\\anaconda3\\Lib\\site-packages\\statsmodels\\tsa\\base\\tsa_model.py:473: ValueWarning: An unsupported index was provided and will be ignored when e.g. forecasting.\n",
      "  self._init_dates(dates, freq)\n",
      "C:\\Users\\pc\\anaconda3\\Lib\\site-packages\\statsmodels\\tsa\\statespace\\sarimax.py:866: UserWarning: Too few observations to estimate starting parameters for ARMA and trend. All parameters except for variances will be set to zeros.\n",
      "  warn('Too few observations to estimate starting parameters%s.'\n",
      "C:\\Users\\pc\\anaconda3\\Lib\\site-packages\\statsmodels\\tsa\\base\\tsa_model.py:836: ValueWarning: No supported index is available. Prediction results will be given with an integer index beginning at `start`.\n",
      "  return get_prediction_index(\n",
      "C:\\Users\\pc\\anaconda3\\Lib\\site-packages\\statsmodels\\tsa\\base\\tsa_model.py:836: FutureWarning: No supported index is available. In the next version, calling this method in a model without a supported index will result in an exception.\n",
      "  return get_prediction_index(\n"
     ]
    },
    {
     "name": "stdout",
     "output_type": "stream",
     "text": [
      "MAE: 1099.11\n",
      "R² Score:-1.3751\n"
     ]
    }
   ],
   "source": [
    "import pandas as ps \n",
    "import numpy as np\n",
    "from statsmodels.tsa.arima.model import ARIMA\n",
    "from sklearn.metrics import mean_absolute_error, r2_score\n",
    "\n",
    "y_ARIMA=yearly_data['Average HPI']\n",
    "#Split into train and test (e.g., 80% train, 20% test)\n",
    "train_size = int(len(y) *0.8)\n",
    "y_ARIMA_train =y_ARIMA[:train_size]   #Slice\n",
    "y_ARIMA_test = y_ARIMA[train_size:]\n",
    "\n",
    "# Fit ARIMA model on training data\n",
    "model_ARIMA = ARIMA(y_ARIMA_train, order=(1, 1, 1))\n",
    "model_fit_ARIMA = model_ARIMA.fit()\n",
    "#  Forecast for the test set period\n",
    "forecast_ARIMA = model_fit_ARIMA.forecast(steps=len(y2_test))\n",
    "\n",
    "# Evaluate the model\n",
    "mae_ARIMA = mean_absolute_error(y_ARIMA_test, forecast)\n",
    "r2_ARIMA = r2_score(y_ARIMA_test, forecast_ARIMA)\n",
    "\n",
    "print(f\"MAE: {mae_ARIMA:.2f}\")\n",
    "print(f\"R² Score:{r2_ARIMA:.4f}\")"
   ]
  },
  {
   "cell_type": "markdown",
   "id": "df88e95b-c23a-4eb6-8638-e3dad4e440e3",
   "metadata": {},
   "source": [
    "These scores indicate the model has severe issues, let's try other method."
   ]
  },
  {
   "cell_type": "markdown",
   "id": "cdb247b4-018f-4e3c-baac-f6ef42c3505d",
   "metadata": {},
   "source": [
    "#### **5-2. Machine Learning (Random Forest)**"
   ]
  },
  {
   "cell_type": "code",
   "execution_count": 96,
   "id": "6bcf11fd-832c-4bdb-b35f-669d17b9c447",
   "metadata": {},
   "outputs": [],
   "source": [
    "import pandas as pd\n",
    "from sklearn.model_selection import train_test_split\n",
    "from sklearn.ensemble import RandomForestRegressor\n",
    "from sklearn.metrics import r2_score, mean_absolute_error"
   ]
  },
  {
   "cell_type": "code",
   "execution_count": 150,
   "id": "39caa31d-dbbf-40f4-9296-30e2dbbee3e0",
   "metadata": {},
   "outputs": [],
   "source": [
    "X_rf = merged_df_5[['Year', 'Total value of housing stock', 'Residential investment (GDP)']]\n",
    "y_rf = merged_df_5['Average HPI']\n",
    "\n",
    "X_rf_train, X_rf_test, y_rf_train, y_rf_test = train_test_split(X_rf, y_rf, test_size=0.2, random_state=42)\n",
    "\n",
    "model_rf = RandomForestRegressor(n_estimators=100, random_state=42)\n",
    "model_rf.fit(X_rf_train, y_rf_train)\n",
    "\n",
    "y_rf_pred = model_rf.predict(X_rf_test)\n"
   ]
  },
  {
   "cell_type": "markdown",
   "id": "6e2e7e55-e2ea-47e6-881b-4eabebddef07",
   "metadata": {},
   "source": [
    "**Analyzing Coefficient of determination and Mean Absolute Error of the Random Forest model**"
   ]
  },
  {
   "cell_type": "code",
   "execution_count": 154,
   "id": "6b4bce8f-7ab9-4af8-b8f9-94aa41ac046b",
   "metadata": {},
   "outputs": [
    {
     "name": "stdout",
     "output_type": "stream",
     "text": [
      "R²: 0.997026299638823\n",
      "MAE: 34.6307142857143\n"
     ]
    }
   ],
   "source": [
    "\n",
    "r2_rf = r2_score(y_rf_test, y_rf_pred)\n",
    "mae_rf = mean_absolute_error(y_rf_test, y_rf_pred)\n",
    "\n",
    "print(\"R²:\", r2_rf)\n",
    "print(\"MAE:\", mae_rf)"
   ]
  },
  {
   "cell_type": "markdown",
   "id": "ae4ea3bd-7176-4255-af6e-fe2be674a899",
   "metadata": {},
   "source": [
    "Conveting to csv"
   ]
  },
  {
   "cell_type": "code",
   "execution_count": 372,
   "id": "f36fe6a2-6cb5-49a7-b0e2-66e3ecdad49e",
   "metadata": {},
   "outputs": [],
   "source": [
    "r2_score_data = {'Metric': ['R² Score'], 'Value': [r2]}\n",
    "df = pd.DataFrame(r2_score_data)\n",
    "df.to_csv('r2_score.csv', index=False)"
   ]
  },
  {
   "cell_type": "markdown",
   "id": "ee9de1b8-1e71-4018-ade8-d12d7f6ec984",
   "metadata": {},
   "source": [
    "The model is highly accurate but should be checked for overfitting"
   ]
  },
  {
   "cell_type": "code",
   "execution_count": 384,
   "id": "d60f8aeb-4f62-4887-afcd-0fc88c4ffaea",
   "metadata": {},
   "outputs": [
    {
     "name": "stdout",
     "output_type": "stream",
     "text": [
      "Train R²: 0.997\n",
      "Test R²:  0.997\n"
     ]
    }
   ],
   "source": [
    "print(f\"Train R²: {model_rf.score(X_rf_train, y_rf_train):.3f}\")  # Likely ~0.997\n",
    "print(f\"Test R²:  {model_rf.score(X_rf_test, y_rf_test):.3f}\")    # If <<0.997 → Overfitting"
   ]
  },
  {
   "cell_type": "markdown",
   "id": "dbb95a8e-73f5-4597-8ea7-03cca61502b2",
   "metadata": {},
   "source": [
    "The model does not seem to be overfitting."
   ]
  },
  {
   "cell_type": "markdown",
   "id": "68899fe6-caca-4a97-a495-7eced6ee0d7d",
   "metadata": {},
   "source": [
    "**Comparing Predicted and Actual HPII**"
   ]
  },
  {
   "cell_type": "code",
   "execution_count": 408,
   "id": "47892dc1-e6ee-4178-8778-6f8a168dbebe",
   "metadata": {},
   "outputs": [
    {
     "name": "stdout",
     "output_type": "stream",
     "text": [
      "10 10\n"
     ]
    },
    {
     "data": {
      "image/png": "[encoded data removed]",
      "text/plain": [
       "<Figure size 800x600 with 1 Axes>"
      ]
     },
     "metadata": {},
     "output_type": "display_data"
    }
   ],
   "source": [
    "\n",
    "model_rf = RandomForestRegressor(n_estimators=100, random_state=42)\n",
    "model_rf.fit(X_rf_train, y_rf_train)\n",
    "\n",
    "\n",
    "y_rf_pred = model_rf.predict(X_rf_test)\n",
    "\n",
    "\n",
    "print(len(y_rf_test), len(y_rf_pred))  # Should both be 10\n",
    "\n",
    "# Plot\n",
    "import matplotlib.pyplot as plt\n",
    "plt.figure(figsize=(8, 6))\n",
    "plt.scatter(y_rf_test, y_rf_pred, color='blue', alpha=0.7)\n",
    "plt.plot([y_rf_test.min(), y_rf_test.max()], [y_rf_test.min(), y_rf_test.max()], color='red', linestyle='--') \n",
    "plt.xlabel(\"Actual HPI\")\n",
    "plt.ylabel(\"Predicted HPI\")\n",
    "plt.title(\"Random Forest Prediction vs. Actual HPI\")\n",
    "plt.grid(True)\n",
    "plt.show()\n"
   ]
  },
  {
   "cell_type": "markdown",
   "id": "297f2d6b-30c5-41b8-ba23-633d28df6045",
   "metadata": {},
   "source": [
    "*We can see that the model is performing well.*"
   ]
  },
  {
   "cell_type": "code",
   "execution_count": null,
   "id": "524badd7-f455-4d22-9e55-3fc683a50932",
   "metadata": {},
   "outputs": [],
   "source": [
    "import pandas as pd \n",
    "actual_prediction = pd.DataFrame({'Actual HPI': y_rf_test, 'Predicted HPI': y_rf_pred})\n",
    "actual_prediction.to_csv('rf_predictions.csv', index=False)"
   ]
  },
  {
   "cell_type": "markdown",
   "id": "d9880b15-ff1c-44ec-9519-70dcf0e17b5d",
   "metadata": {},
   "source": [
    "**Forecasting HPI from Random Forest**"
   ]
  },
  {
   "cell_type": "markdown",
   "id": "0f4aea86-9bea-458a-9fe2-cd31617209eb",
   "metadata": {},
   "source": [
    " Predicting Total value of housing stock and Residential investment (GDP) Using Linear Regression (for forecasting HPI)."
   ]
  },
  {
   "cell_type": "code",
   "execution_count": 163,
   "id": "44f2db78-ad6d-4b05-92dc-3bc69ae4d203",
   "metadata": {},
   "outputs": [
    {
     "name": "stdout",
     "output_type": "stream",
     "text": [
      "   Year  Predicted Total value of housing stock  \\\n",
      "0  2025                            1.467567e+06   \n",
      "1  2026                            1.514857e+06   \n",
      "2  2027                            1.562147e+06   \n",
      "3  2028                            1.609437e+06   \n",
      "4  2029                            1.656727e+06   \n",
      "5  2030                            1.704018e+06   \n",
      "\n",
      "   Predicted Residential investment (GDP)  \n",
      "0                             4093.187027  \n",
      "1                             4161.428420  \n",
      "2                             4229.669814  \n",
      "3                             4297.911208  \n",
      "4                             4366.152601  \n",
      "5                             4434.393995  \n"
     ]
    }
   ],
   "source": [
    "from sklearn.linear_model import LinearRegression\n",
    "import pandas as pd\n",
    "\n",
    "\n",
    "model_stock = LinearRegression()  # Total value of housing stock\n",
    "model_invest = LinearRegression()  # Residential investment (GDP)\n",
    "\n",
    "\n",
    "X_stock_invest = merged_df_5[['Year']]\n",
    "\n",
    "\n",
    "y_stock = merged_df_5['Total value of housing stock']\n",
    "y_invest = merged_df_5['Residential investment (GDP)']\n",
    "\n",
    "\n",
    "model_stock.fit(X, y1)\n",
    "model_invest.fit(X, y2)\n",
    "\n",
    "\n",
    "future_years_stock_invest = pd.DataFrame({'Year': [2025, 2026, 2027, 2028, 2029, 2030]})\n",
    "\n",
    "\n",
    "predicted_stock = model_stock.predict(future_years_linear)\n",
    "predicted_investment = model_invest.predict(future_years_linear)\n",
    "\n",
    "\n",
    "predicted_stock_invest = pd.DataFrame({\n",
    "    'Year': future_years_stock_invest['Year'],\n",
    "    'Predicted Total value of housing stock': predicted_stock,\n",
    "    'Predicted Residential investment (GDP)': predicted_investment\n",
    "})\n",
    "\n",
    "print(predicted_stock_invest)\n"
   ]
  },
  {
   "cell_type": "markdown",
   "id": "61f04969-6a3d-40c3-b1aa-26c8a70cee53",
   "metadata": {},
   "source": [
    "Analyzing Coefficient of determination and Mean Absolute Error of the liner regression model"
   ]
  },
  {
   "cell_type": "code",
   "execution_count": 173,
   "id": "fa6a6721-bf97-4a94-ab1b-5b4099cfbc9a",
   "metadata": {},
   "outputs": [
    {
     "name": "stdout",
     "output_type": "stream",
     "text": [
      "Total value of housing stock - R2: 0.8986, MAE: 123799.98\n",
      "Residential investment (GDP) - R2: 0.7477, MAE: 300.31\n"
     ]
    }
   ],
   "source": [
    "from sklearn.metrics import r2_score, mean_absolute_error\n",
    "\n",
    "\n",
    "y_stock_pred_train = model_stock.predict(X)\n",
    "y_invest_pred_train = model_invest.predict(X)\n",
    "\n",
    "\n",
    "r2_stock = r2_score(y_stock, y_stock_pred_train)\n",
    "r2_investment = r2_score(y_invest, y_invest_pred_train)\n",
    "\n",
    "\n",
    "mae_stock = mean_absolute_error(y_stock, y_stock_pred_train)\n",
    "mae_investment = mean_absolute_error(y_invest, y_invest_pred_train)\n",
    "\n",
    "print(f\"Total value of housing stock - R2: {r2_stock:.4f}, MAE: {mae_stock:.2f}\")\n",
    "print(f\"Residential investment (GDP) - R2: {r2_investment:.4f}, MAE: {mae_investment:.2f}\")\n"
   ]
  },
  {
   "cell_type": "markdown",
   "id": "31e5eae8-f623-4551-92b7-e261f56d91c4",
   "metadata": {},
   "source": [
    "*Both have strong correlations, I can use these predicted numbers.*"
   ]
  },
  {
   "cell_type": "markdown",
   "id": "00539575-838b-4923-ad17-d3f1bb4e1440",
   "metadata": {},
   "source": [
    "Forecasting HPI "
   ]
  },
  {
   "cell_type": "code",
   "execution_count": 169,
   "id": "16db3c26-cb65-4cfb-8df1-8e415f1fd262",
   "metadata": {},
   "outputs": [
    {
     "name": "stdout",
     "output_type": "stream",
     "text": [
      "   Year  Total value of housing stock  Residential investment (GDP)  \\\n",
      "0  2025                       1467567                       4093.18   \n",
      "1  2026                       1514857                       4161.42   \n",
      "2  2027                       1562147                       4229.66   \n",
      "3  2028                       1609437                       4297.91   \n",
      "4  2029                       1656727                       4366.15   \n",
      "5  2030                       1704018                       4434.39   \n",
      "\n",
      "   Predicted Average HPI  \n",
      "0              3371.3400  \n",
      "1              3462.5200  \n",
      "2              3460.2325  \n",
      "3              3460.2325  \n",
      "4              3514.1025  \n",
      "5              3514.1025  \n"
     ]
    }
   ],
   "source": [
    "future_data_rf = pd.DataFrame({\n",
    "    'Year': [2025, 2026, 2027, 2028, 2029, 2030],\n",
    "    'Total value of housing stock': [1467567, 1514857, 1562147, 1609437, 1656727, 1704018],\n",
    "    'Residential investment (GDP)': [4093.18, 4161.42, 4229.66, 4297.91, 4366.15, 4434.39]\n",
    "})\n",
    "\n",
    "future_HPI_rf = model_rf.predict(future_data_rf)\n",
    "\n",
    "future_predictions_rf = future_data_rf.copy()\n",
    "future_predictions_rf['Predicted Average HPI'] = future_HPI_rf\n",
    "\n",
    "print(future_predictions_rf)\n"
   ]
  },
  {
   "cell_type": "markdown",
   "id": "c07f2b7b-6895-417d-ba39-37027c910d31",
   "metadata": {},
   "source": [
    "#### **5-3. Simple trend modeling (Linear Regression)** "
   ]
  },
  {
   "cell_type": "markdown",
   "id": "969f375f-7c85-4b9a-b93a-5f6e678f1987",
   "metadata": {},
   "source": [
    "Making a model and analyzing Coefficient of determination and Mean Absolute Error of the liner regression model"
   ]
  },
  {
   "cell_type": "code",
   "execution_count": 231,
   "id": "b10d1df6-868b-4a63-bca4-ffa129896f0c",
   "metadata": {},
   "outputs": [
    {
     "name": "stdout",
     "output_type": "stream",
     "text": [
      "R² score: 0.9990197454334518\n",
      "Mean Absolute Error (MAE): 23.415262358105792\n"
     ]
    }
   ],
   "source": [
    "from sklearn.linear_model import LinearRegression\n",
    "from sklearn.model_selection import train_test_split\n",
    "from sklearn.metrics import r2_score, mean_absolute_error\n",
    "\n",
    "X_linear = merged_df_5[['Residential investment (GDP)', 'Total value of housing stock','Year']]\n",
    "y_linear = merged_df_5['Average HPI']\n",
    "\n",
    "\n",
    "X_linear_train, X_linear_test, y_linear_train, y_linear_test = train_test_split(X_linear, y_linear, test_size=0.2, random_state=42)\n",
    "\n",
    "\n",
    "model_linear = LinearRegression()\n",
    "model_linear.fit(X_linear_train, y_linear_train)\n",
    "\n",
    "\n",
    "y_linear_pred = model_linear.predict(X_linear_test)\n",
    "\n",
    "\n",
    "r2_linear = r2_score(y_linear_test, y_linear_pred)\n",
    "mae_linear = mean_absolute_error(y_linear_test, y_linear_pred)\n",
    "\n",
    "print(\"R² score:\", r2_linear)\n",
    "print(\"Mean Absolute Error (MAE):\", mae_linear)\n"
   ]
  },
  {
   "cell_type": "markdown",
   "id": "7193c682-9d12-4e65-8df9-c78d87058a96",
   "metadata": {},
   "source": [
    "*We can see the model indicates excellent predictive performance.*"
   ]
  },
  {
   "cell_type": "code",
   "execution_count": 112,
   "id": "6f67fb14-689b-4fac-92df-3b84c6add08a",
   "metadata": {},
   "outputs": [
    {
     "data": {
      "text/plain": [
       "array([3452.62572861, 1486.64151627, 2492.94471367, 1392.8194973 ,\n",
       "        713.87946751,  716.82567204, 1435.76830442])"
      ]
     },
     "execution_count": 112,
     "metadata": {},
     "output_type": "execute_result"
    }
   ],
   "source": [
    "y_linear_pred"
   ]
  },
  {
   "cell_type": "markdown",
   "id": "69f61bc2-f5a1-4007-a9d0-1e4b419f5658",
   "metadata": {},
   "source": [
    "**Comparing Predicted and Actual HPII**"
   ]
  },
  {
   "cell_type": "code",
   "execution_count": 469,
   "id": "266b90c8-7a14-4b52-9a6d-8244245b1e7b",
   "metadata": {},
   "outputs": [
    {
     "data": {
      "image/png": "[encoded data removed]",
      "text/plain": [
       "<Figure size 1000x600 with 1 Axes>"
      ]
     },
     "metadata": {},
     "output_type": "display_data"
    }
   ],
   "source": [
    "import matplotlib.pyplot as plt\n",
    "\n",
    "# Actual vs Prediction\n",
    "plt.figure(figsize=(10, 6))\n",
    "plt.plot(y_linear_test.values, label='Actual HPI', marker='o')\n",
    "plt.plot(y_linear_pred, label='Predicted HPI', marker='x')\n",
    "plt.title('Actual vs Predicted Average HPI (Test Set)')\n",
    "plt.xlabel('Sample Index')\n",
    "plt.ylabel('Average HPI')\n",
    "plt.legend()\n",
    "plt.grid(True)\n",
    "plt.tight_layout()\n",
    "plt.show()\n"
   ]
  },
  {
   "cell_type": "markdown",
   "id": "14f41993-6bd1-4b3c-8cb1-743004db5bc9",
   "metadata": {},
   "source": [
    "#### **Making a future data set (Forecast HPI)**"
   ]
  },
  {
   "cell_type": "code",
   "execution_count": 233,
   "id": "b68c0bcd-b236-43ba-a2a9-c1f012d44e87",
   "metadata": {},
   "outputs": [
    {
     "name": "stdout",
     "output_type": "stream",
     "text": [
      "   Year  Residential investment (GDP)  Total value of housing stock  \\\n",
      "0  2025                       4093.18                       1467567   \n",
      "1  2026                       4161.42                       1514857   \n",
      "2  2027                       4229.66                       1562147   \n",
      "3  2028                       4297.91                       1609437   \n",
      "4  2029                       4366.15                       1656727   \n",
      "5  2030                       4434.39                       1704018   \n",
      "\n",
      "   Predicted Average HPI  \n",
      "0            3226.501866  \n",
      "1            3322.661927  \n",
      "2            3418.821989  \n",
      "3            3514.982710  \n",
      "4            3611.142771  \n",
      "5            3707.304797  \n"
     ]
    }
   ],
   "source": [
    "from sklearn.linear_model import LinearRegression\n",
    "import pandas as pd\n",
    "\n",
    "\n",
    "future_data_linear = pd.DataFrame({\n",
    "    'Year': [2025, 2026, 2027, 2028, 2029, 2030],\n",
    "    'Residential investment (GDP)': [4093.18, 4161.42, 4229.66, 4297.91, 4366.15, 4434.39],\n",
    "    'Total value of housing stock': [1467567, 1514857, 1562147, 1609437, 1656727, 1704018]\n",
    "})\n",
    "\n",
    "\n",
    "future_HPI_linear = model_linear.predict(future_data_linear[['Residential investment (GDP)', 'Total value of housing stock', 'Year']])\n",
    "\n",
    "\n",
    "future_data_linear['Predicted Average HPI'] = future_HPI_linear\n",
    "\n",
    "# Display the future data with predictions\n",
    "print(future_data_linear)\n"
   ]
  },
  {
   "cell_type": "markdown",
   "id": "50251e9c-dc34-4286-aacc-856b821ad496",
   "metadata": {},
   "source": [
    "### **6. Final Forecast & Visualization**"
   ]
  },
  {
   "cell_type": "markdown",
   "id": "01ad1c5d-de85-4185-a4bc-c230f4071ff3",
   "metadata": {},
   "source": [
    "#### **6-1. Model Comparison Plot**"
   ]
  },
  {
   "cell_type": "markdown",
   "id": "4d43617e-75e2-46cb-9816-bb6243d1737d",
   "metadata": {},
   "source": [
    "**Linear Regression vs Random Forest vs ARIMA Forecast**"
   ]
  },
  {
   "cell_type": "code",
   "execution_count": 235,
   "id": "e6394352-988e-4343-84a3-fc224c5e0da3",
   "metadata": {},
   "outputs": [
    {
     "data": {
      "image/png": "[encoded data removed]",
      "text/plain": [
       "<Figure size 1000x600 with 1 Axes>"
      ]
     },
     "metadata": {},
     "output_type": "display_data"
    }
   ],
   "source": [
    "import matplotlib.pyplot as plt\n",
    "\n",
    "future_years = [2025, 2026, 2027, 2028, 2029, 2030]\n",
    "\n",
    "\n",
    "pred_linear = [3226.501866, 3322.661927, 3418.821989, 3514.982710, 3611.142771, 3707.304797]    # Linear Regression prediction\n",
    "pred_rf = [3371.3400 , 3462.5200 , 3460.2325, 3460.2325, 3514.1025, 3514.1025]         # Random Forest prediction\n",
    "pred_arima = [3418.720876, 3418.607450, 3418.609605, 3418.609564, 3418.609565, 3418.609565]      # ARIMA prediction\n",
    "\n",
    "\n",
    "plt.figure(figsize=(10, 6))\n",
    "\n",
    "\n",
    "plt.plot(future_years, pred_linear, marker='o', label='Linear Regression', color='blue')\n",
    "plt.plot(future_years, pred_rf, marker='s', label='Random Forest', color='green')\n",
    "plt.plot(future_years, pred_arima, marker='^', label='ARIMA', color='red')\n",
    "\n",
    "\n",
    "plt.title('Forecast Comparison: Linear Regression vs Random Forest vs ARIMA', fontsize=14)\n",
    "plt.xlabel('Year', fontsize=12)\n",
    "plt.ylabel('Predicted Average HPI', fontsize=12)\n",
    "\n",
    "\n",
    "plt.grid(True, linestyle='--', alpha=0.7)\n",
    "\n",
    "\n",
    "plt.legend()\n",
    "\n",
    "\n",
    "plt.show()\n"
   ]
  },
  {
   "cell_type": "markdown",
   "id": "c3b4cb60-1c7b-4783-8ef9-96ffba9a9b1e",
   "metadata": {},
   "source": [
    "*After comparing multiple models, Linear Regression appeared to have the highest R² value, suggesting high prediction accuracy. However, due to the inherent nature of linear models, the predicted results were too monotonous, lacking the realism necessary for convincing forecasts.* \n",
    "\n",
    "*Therefore, I decided to adopt **Random Forest**. After comparing the results of the ARIMA model and Random Forest, it became clear that the predictions from Random Forest were more suitable for real-world data and demonstrated sufficient accuracy. As a result, this model was ultimately selected.*"
   ]
  },
  {
   "cell_type": "markdown",
   "id": "1786e606-42d4-4dfe-82ce-56b45b8ab948",
   "metadata": {},
   "source": [
    "#### **6-2. Best Model Forecast Plot (Random Forest Model)**"
   ]
  },
  {
   "cell_type": "code",
   "execution_count": 243,
   "id": "5517ba46-aa2c-4901-b959-b63f2669226a",
   "metadata": {},
   "outputs": [
    {
     "data": {
      "image/png": "[encoded data removed]",
      "text/plain": [
       "<Figure size 1000x600 with 1 Axes>"
      ]
     },
     "metadata": {},
     "output_type": "display_data"
    }
   ],
   "source": [
    "# グラフ表示\n",
    "plt.figure(figsize=(10, 6))\n",
    "plt.plot(future_predictions_rf['Year'], future_predictions_rf['Predicted Average HPI'], marker='o', label='Predicted Future HPI')\n",
    "plt.title('Predicted Average HPI (2025–2030)')\n",
    "plt.xlabel('Year')\n",
    "plt.ylabel('Average HPI')\n",
    "plt.grid(True)\n",
    "plt.legend()\n",
    "plt.tight_layout()\n",
    "plt.show()"
   ]
  },
  {
   "cell_type": "markdown",
   "id": "88fe78ce-5f4c-4e05-a24c-e34025022477",
   "metadata": {},
   "source": [
    "Converting the merged dataset and resional dataset to CSV format for Power BI analysis"
   ]
  },
  {
   "cell_type": "code",
   "execution_count": 368,
   "id": "4aaf295e-1d50-49a2-ad01-2c781e8cf7fd",
   "metadata": {},
   "outputs": [],
   "source": [
    "future_predictions_rf.to_csv(\"future_predictions_rf.csv\", index=False)"
   ]
  },
  {
   "cell_type": "code",
   "execution_count": 370,
   "id": "1f753d00-21dd-43d2-900a-faa282910a69",
   "metadata": {},
   "outputs": [
    {
     "name": "stdout",
     "output_type": "stream",
     "text": [
      "C:\\Users\\pc\\Visualization and Forecasting of Housing Prices and Population Dynamics\n"
     ]
    }
   ],
   "source": [
    "import os\n",
    "print(os.getcwd())"
   ]
  },
  {
   "cell_type": "markdown",
   "id": "b05c8ea5-04de-46d3-a3f9-fd36cd68f0ed",
   "metadata": {},
   "source": [
    "## **7. Conclusion and Recommendations**"
   ]
  },
  {
   "cell_type": "markdown",
   "id": "01a0d730-4aec-40b3-8a1e-b83224226f7e",
   "metadata": {},
   "source": [
    "In this project, I analyzed historical trends and forecasted housing prices and population dynamics in New Zealand to support urban planning, investment decisions, and housing policy development.\n",
    "\n"
   ]
  },
  {
   "cell_type": "markdown",
   "id": "a3a4dfe6-ccae-4302-b725-4c1959231b08",
   "metadata": {},
   "source": [
    "- **Exploratory Data Analysis (EDA)**: The analysis showed that the year is the strongest predictor of the Housing Price Index (HPI), with a correlation of 0.949. Other significant factors influencing housing prices include the total value of housing stock and residential investment (GDP). These findings suggest that the housing market in New Zealand has historically followed a predictable growth pattern driven by economic factors. However, there was a decline in housing prices after 2021, likely due to the economic impact of the COVID-19 pandemic, including rising interest rates and shifts in housing demand.\n",
    "\n",
    "- **Regional Insights:** The analysis revealed a clear regional pattern, with Auckland consistently having the highest housing prices, while South Island Metro areas, such as Dunedin and Nelson, recorded the lowest. This insight can be valuable for regional planning and housing investment decisions.\n",
    "\n",
    "- **Forecasting Housing Prices**: Using the Random Forest model, I forecasted housing prices from 2025 to 2030. The model predicted a moderate increase in HPI, with values stabilizing after 2027. Specifically, the forecast shows HPI rising from 3371.34 in 2025 to 3514.10 in 2030. The Random Forest model provided reliable and realistic predictions, capturing the complex relationships between housing market variables, making it a suitable choice for forecasting. "
   ]
  },
  {
   "cell_type": "markdown",
   "id": "efa8a982-6df2-4acb-ba8f-b3df9ea786e8",
   "metadata": {},
   "source": [
    "### **Recommendations:**\n",
    "\n",
    "- **Monitor Economic Indicators:**\n",
    "Given that housing prices are closely tied to economic factors like residential investment and the total value of housing stock, it is crucial for policymakers and investors to closely monitor these indicators. Fluctuations in GDP growth and housing investment trends could signal changes in housing market dynamics.\n",
    "\n",
    "- **Urban Planning:** The regional variations in housing prices suggest that targeted urban planning efforts are necessary to address affordability issues, especially in high-demand areas like Auckland. Policymakers could focus on increasing housing supply in these areas to balance demand and alleviate pressure on housing prices.\n",
    "\n",
    "- **Promote Diversified Investment:**\n",
    "For investors, diversification across different regions could be a strategic move. Since regional price trends vary, investing beyond Auckland into growing yet affordable areas like South Island metros may offer better long-term returns and lower risk.\n",
    "\n",
    "- **Enhance Data-Driven Decision-Making:**\n",
    "Continuous collection and analysis of housing, migration, and economic data are recommended. Integrating additional features such as interest rates, building permits, and demographic shifts could further refine predictive models and provide even more accurate forecasts."
   ]
  },
  {
   "cell_type": "markdown",
   "id": "c0cfb37d-06b8-4914-9e8b-b6de424745f8",
   "metadata": {},
   "source": [
    "*Thank you!*"
   ]
  }
 ],
 "metadata": {
  "kernelspec": {
   "display_name": "Python 3 (ipykernel)",
   "language": "python",
   "name": "python3"
  },
  "language_info": {
   "codemirror_mode": {
    "name": "ipython",
    "version": 3
   },
   "file_extension": ".py",
   "mimetype": "text/x-python",
   "name": "python",
   "nbconvert_exporter": "python",
   "pygments_lexer": "ipython3",
   "version": "3.11.7"
  }
 },
 "nbformat": 4,
 "nbformat_minor": 5
}
